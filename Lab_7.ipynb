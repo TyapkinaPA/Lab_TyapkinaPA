{
  "nbformat": 4,
  "nbformat_minor": 0,
  "metadata": {
    "colab": {
      "provenance": [],
      "authorship_tag": "ABX9TyPBoPTkQ3JtsVVw2gVyFybJ",
      "include_colab_link": true
    },
    "kernelspec": {
      "name": "python3",
      "display_name": "Python 3"
    },
    "language_info": {
      "name": "python"
    }
  },
  "cells": [
    {
      "cell_type": "markdown",
      "metadata": {
        "id": "view-in-github",
        "colab_type": "text"
      },
      "source": [
        "<a href=\"https://colab.research.google.com/github/TyapkinaPA/Lab_TyapkinaPA/blob/main/Lab_7.ipynb\" target=\"_parent\"><img src=\"https://colab.research.google.com/assets/colab-badge.svg\" alt=\"Open In Colab\"/></a>"
      ]
    },
    {
      "cell_type": "markdown",
      "source": [
        "# 7.2. Ошибки и исключения.\n",
        "## Выполнилы: Тяпкина Полина\n",
        "## Группа: АДЭУ-221\n",
        "## Номер в moodle: 19\n",
        "## Почта:p.malinka25@gmail.com ,  TyapkinaPA@mgpu.ru \n"
      ],
      "metadata": {
        "id": "Ih12ee4rp3Ao"
      }
    },
    {
      "cell_type": "markdown",
      "source": [
        "## 7.2.1. Простая отладка программ\n",
        "Для задач 7.2.1-7.2.5 приведено условие задачи и ее решение (ошибочное).\n",
        "\n",
        "Для каждой задачи:\n",
        "\n",
        "используя визуальный просмотр кода, простое журналирование, проверку PEP8 или отладчик в IDE:\n",
        "\n",
        "разберитесь в алгоритме решения;\n",
        "\n",
        "найдите номера строк, в которых есть ошибки, и укажите их в строке документации;\n",
        "\n",
        "исправьте ошибки, минимально изменив код (как правило, заменив строчку на строчку); ошибки исправляются по ходу программы, сверху вниз.\n",
        "\n",
        "Пример.\n",
        "\n",
        "Исходная программа:"
      ],
      "metadata": {
        "id": "RBwdFqqTpYKA"
      }
    },
    {
      "cell_type": "code",
      "source": [
        "def even_mult(nums):\n",
        "    \"\"\"Вернуть произведение четных чисел в списке 'nums'.\"\"\"\n",
        "    p = 0\n",
        "    for item in nums:\n",
        "        if item % 2 != 0:\n",
        "            p *= item\n",
        "\n",
        "    return p"
      ],
      "metadata": {
        "id": "EpHlfuduqIC6"
      },
      "execution_count": null,
      "outputs": []
    },
    {
      "cell_type": "markdown",
      "source": [
        "\n",
        "Исправленная программа:"
      ],
      "metadata": {
        "id": "6K9-2cuRqNnN"
      }
    },
    {
      "cell_type": "code",
      "source": [
        "def even_mult(nums):\n",
        "    \"\"\"Вернуть произведение четных чисел в списке 'nums'.\"\"\"\n",
        "    p = 1\n",
        "    for item in nums:\n",
        "        if item % 2 == 0:\n",
        "            p *= item\n",
        "\n",
        "    return p"
      ],
      "metadata": {
        "id": "URldyhKTqK-2"
      },
      "execution_count": null,
      "outputs": []
    },
    {
      "cell_type": "markdown",
      "source": [
        "### 7.2.1"
      ],
      "metadata": {
        "id": "41lfNXwZq4h3"
      }
    },
    {
      "cell_type": "markdown",
      "source": [
        "Исходная программа:"
      ],
      "metadata": {
        "id": "kFBF1-XztkvP"
      }
    },
    {
      "cell_type": "code",
      "source": [
        "def sum_of_digits(n):\n",
        "    \"\"\"Вернуть сумму цифр меньших 5 для положительного целого числа `n`.\n",
        "    Если таких цифр нет, вернуть 0.\"\"\"\n",
        "    с = 0\n",
        "    while n > 0:\n",
        "        digit = n // 10\n",
        "        if digit < 5:\n",
        "            c = с + 1\n",
        "        n //= 10\n",
        "    return digit"
      ],
      "metadata": {
        "id": "SD7b1_nJq3wG"
      },
      "execution_count": null,
      "outputs": []
    },
    {
      "cell_type": "markdown",
      "source": [
        "Исправленная программа:"
      ],
      "metadata": {
        "id": "sSFWXR-luXzG"
      }
    },
    {
      "cell_type": "code",
      "execution_count": null,
      "metadata": {
        "id": "9LbQ3YUYpIar",
        "colab": {
          "base_uri": "https://localhost:8080/"
        },
        "outputId": "04a57b5b-a56f-4057-9548-93c7810cbdad"
      },
      "outputs": [
        {
          "output_type": "execute_result",
          "data": {
            "text/plain": [
              "2"
            ]
          },
          "metadata": {},
          "execution_count": 4
        }
      ],
      "source": [
        "def sum_of_digits(n):\n",
        "    \"\"\"Вернуть сумму цифр меньших 5 для положительного целого числа `n`.\n",
        "    Если таких цифр нет, вернуть 0.\"\"\"\n",
        "    t = 0\n",
        "    while n > 0:\n",
        "        digit = n % 10      #\n",
        "        if digit < 5:\n",
        "          t += digit        #\n",
        "        n //= 10\n",
        "    return t                #\n",
        "\n",
        "sum_of_digits(11)"
      ]
    },
    {
      "cell_type": "markdown",
      "source": [
        "### 7.2.2"
      ],
      "metadata": {
        "id": "dpLZVBXDtTcR"
      }
    },
    {
      "cell_type": "markdown",
      "source": [
        "Исходная программа:"
      ],
      "metadata": {
        "id": "8Ml1Vgi6u406"
      }
    },
    {
      "cell_type": "code",
      "source": [
        "def primes(a, b):\n",
        "    \"\"\"Вернуть список простых чисел на отрезке от 'a' до 'b'.\"\"\"\n",
        "    res = []\n",
        "    c = 0\n",
        "    for i in range(a, b):\n",
        "        for j in range(i):\n",
        "            if i % (j + 1) == 0:\n",
        "                c += 1\n",
        "            if c == 2:\n",
        "                res.append(i)\n",
        "\n",
        "    return res"
      ],
      "metadata": {
        "id": "ZH19fakdtTza"
      },
      "execution_count": null,
      "outputs": []
    },
    {
      "cell_type": "markdown",
      "source": [
        "\n",
        "Исправленная программа:"
      ],
      "metadata": {
        "id": "F3GhPhxHvIq5"
      }
    },
    {
      "cell_type": "code",
      "source": [
        "def primes(a, b):\n",
        "    \"\"\"Вернуть список простых чисел на отрезке от 'a' до 'b'.\"\"\"\n",
        "    res = []\n",
        "    c = 0\n",
        "    for i in range(a, b+1):       #\n",
        "        for j in range(i+1):\n",
        "            if i % (j + 1) == 0:\n",
        "                c += 1\n",
        "        if c == 2:                #\n",
        "                res.append(i)\n",
        "                c=0               #\n",
        "        else:                     #\n",
        "          c=0                     #\n",
        "    return res\n",
        "\n",
        "primes(213,225)"
      ],
      "metadata": {
        "colab": {
          "base_uri": "https://localhost:8080/"
        },
        "id": "ZGESzuZ1qopj",
        "outputId": "f178cf4b-c940-4c9a-d2c8-59ca069f8190"
      },
      "execution_count": null,
      "outputs": [
        {
          "output_type": "execute_result",
          "data": {
            "text/plain": [
              "[223]"
            ]
          },
          "metadata": {},
          "execution_count": 5
        }
      ]
    },
    {
      "cell_type": "markdown",
      "source": [
        "### 7.2.3"
      ],
      "metadata": {
        "id": "XAQN6Ivnq9yG"
      }
    },
    {
      "cell_type": "markdown",
      "source": [
        "Исходная программа:"
      ],
      "metadata": {
        "id": "43oqGs4zu6DO"
      }
    },
    {
      "cell_type": "code",
      "source": [
        "def first_vacant_row(seats):\n",
        "    \"\"\"Вернуть первый ряд, в котором имеется больше всего\n",
        "    свободных мест и их количество.\n",
        "\n",
        "    Возвращаемая нумерация рядов с 1. Если свободных мест нет, вернуть 0, 0.\n",
        "\n",
        "    Параметры:\n",
        "        - seats (list of list): информация о проданных билетах\n",
        "                                (1 - продано, 0 - нет).\n",
        "\n",
        "    Результат:\n",
        "        - tuple (ряд, количество мест).\n",
        "    \"\"\"\n",
        "    max_count = 0\n",
        "    max_row = 0\n",
        "    for row_index, row in enumerate(seats):\n",
        "        available_seats_count = row.count(0)  # 0 - пусто\n",
        "        if available_seats_count >= max_count:\n",
        "            max_row = row_index\n",
        "            max_count = available_seats_count\n",
        "\n",
        "    return max_row, max_count\n",
        "\n",
        "# import random\n",
        "#\n",
        "# random.seed(50)\n",
        "#\n",
        "# ROWS_MAX = 10\n",
        "# SEATS_MAX = 5\n",
        "#\n",
        "# seats = [[random.randint(0, 1) for seat in range(SEATS_MAX)]\n",
        "#                                for row in range(ROWS_MAX)]\n",
        "#\n",
        "# for seat in seats:\n",
        "#     print(seat)\n",
        "#\n",
        "# print(first_vacant_row(seats))"
      ],
      "metadata": {
        "id": "JZhIhlImq-Lx"
      },
      "execution_count": null,
      "outputs": []
    },
    {
      "cell_type": "markdown",
      "source": [
        "\n",
        "Исправленная программа:"
      ],
      "metadata": {
        "id": "By7LqpaZvNoY"
      }
    },
    {
      "cell_type": "code",
      "source": [
        "def first_vacant_row(seats):\n",
        "    \"\"\"Вернуть первый ряд, в котором имеется больше всего\n",
        "    свободных мест и их количество.\n",
        "\n",
        "    Возвращаемая нумерация рядов с 1. Если свободных мест нет, вернуть 0, 0.\n",
        "\n",
        "    Параметры:\n",
        "        - seats (list of list): информация о проданных билетах\n",
        "                                (1 - продано, 0 - нет).\n",
        "\n",
        "    Результат:\n",
        "        - tuple (ряд, количество мест).\n",
        "    \"\"\"\n",
        "    max_count = 0\n",
        "    max_row = 0\n",
        "    for row_index, row in enumerate(seats):\n",
        "        available_seats_count = row.count(0)  # 0 - пусто\n",
        "        if available_seats_count > max_count:         #\n",
        "            max_row = row_index + 1                   #\n",
        "            max_count = available_seats_count\n",
        "\n",
        "    return max_row, max_count\n",
        "\n",
        "import random\n",
        "\n",
        "random.seed(50)\n",
        "\n",
        "ROWS_MAX = 10\n",
        "SEATS_MAX = 5\n",
        "\n",
        "seats = [[random.randint(0, 1) for seat in range(SEATS_MAX)]\n",
        "                               for row in range(ROWS_MAX)]\n",
        "\n",
        "for seat in seats:\n",
        "    print(seat)\n",
        "\n",
        "print(first_vacant_row(seats))\n"
      ],
      "metadata": {
        "colab": {
          "base_uri": "https://localhost:8080/"
        },
        "id": "XU8Rrbrjqz1C",
        "outputId": "cfacc90d-c32c-4e89-f573-4920e23646e6"
      },
      "execution_count": null,
      "outputs": [
        {
          "output_type": "stream",
          "name": "stdout",
          "text": [
            "[1, 1, 1, 0, 1]\n",
            "[1, 0, 1, 0, 0]\n",
            "[0, 1, 0, 1, 1]\n",
            "[0, 0, 0, 1, 1]\n",
            "[0, 0, 1, 1, 0]\n",
            "[0, 1, 1, 1, 0]\n",
            "[0, 1, 1, 1, 0]\n",
            "[1, 0, 0, 1, 0]\n",
            "[1, 1, 0, 1, 1]\n",
            "[0, 1, 0, 0, 1]\n",
            "(2, 3)\n"
          ]
        }
      ]
    },
    {
      "cell_type": "markdown",
      "source": [
        "### 7.2.4"
      ],
      "metadata": {
        "id": "0Z7SezCyq_tY"
      }
    },
    {
      "cell_type": "markdown",
      "source": [
        "Исходная программа:"
      ],
      "metadata": {
        "id": "HCLGCSiCu8BA"
      }
    },
    {
      "cell_type": "code",
      "source": [
        "def min_pair(nums):\n",
        "    \"\"\"Вернуть минимальную сумму соседних 2-х чисел в списке 'nums'.\"\"\"\n",
        "    min = nums[0] * nums[1]\n",
        "    for i in range(2, len(nums)):\n",
        "        min = min(nums[i] + nums[i + 1], min)\n",
        "\n",
        "    return min\n",
        "\n",
        "# import random\n",
        "#\n",
        "# random.seed(50)\n",
        "#\n",
        "# N_MAX = 10\n",
        "# RANGE_MIN = 1\n",
        "# RANGE_MAX = 100\n",
        "# nums = random.sample(range(RANGE_MIN, RANGE_MAX), N_MAX)\n",
        "#\n",
        "# print(nums)\n",
        "#\n",
        "# print(min_pair(nums))"
      ],
      "metadata": {
        "id": "bz3qoP4Oq_6a"
      },
      "execution_count": null,
      "outputs": []
    },
    {
      "cell_type": "markdown",
      "source": [
        "\n",
        "Исправленная программа:"
      ],
      "metadata": {
        "id": "Yoy4GzhdvRWx"
      }
    },
    {
      "cell_type": "code",
      "source": [
        "def min_pair(nums):\n",
        "    \"\"\"Вернуть минимальную сумму соседних 2-х чисел в списке 'nums'.\"\"\"\n",
        "    min1 = nums[0] * nums[1]\n",
        "    for i in range(1, len(nums) - 1):             #\n",
        "        min1 = min(nums[i] + nums[i + 1], min1)\n",
        "\n",
        "    return min1\n",
        "\n",
        "import random\n",
        "\n",
        "random.seed(50)\n",
        "\n",
        "N_MAX = 10\n",
        "RANGE_MIN = 1\n",
        "RANGE_MAX = 100\n",
        "nums = random.sample(range(RANGE_MIN, RANGE_MAX), N_MAX)\n",
        "\n",
        "print(nums)\n",
        "\n",
        "print(min_pair(nums))"
      ],
      "metadata": {
        "colab": {
          "base_uri": "https://localhost:8080/"
        },
        "id": "XkZ4ETbQrAP8",
        "outputId": "74a1711c-a409-41b8-aaf5-4dba8b812ae5"
      },
      "execution_count": null,
      "outputs": [
        {
          "output_type": "stream",
          "name": "stdout",
          "text": [
            "[64, 35, 47, 82, 32, 89, 61, 99, 43, 11]\n",
            "54\n"
          ]
        }
      ]
    },
    {
      "cell_type": "markdown",
      "source": [
        "### 7.2.5"
      ],
      "metadata": {
        "id": "3mb5L7BnrHeV"
      }
    },
    {
      "cell_type": "markdown",
      "source": [
        "Исходная программа:"
      ],
      "metadata": {
        "id": "sO5y1p85u9Yw"
      }
    },
    {
      "cell_type": "code",
      "source": [
        "def non_negatives(nums):\n",
        "    \"\"\"Удалить из списка чисел 'nums' отрицательные элементы и вернуть\n",
        "    измененный список.\"\"\"\n",
        "    for i in range(len(nums)):\n",
        "        if nums[i] < 0:\n",
        "            del nums[i]\n",
        "\n",
        "    return nums\n",
        "\n",
        "#import random\n",
        "\n",
        "#n = 10\n",
        "#nums = [round(random.uniform(-10, 10), 2) for i in range(n)]\n",
        "#print(nums)\n",
        "\n",
        "#non_negatives(nums)\n",
        "#print(nums)"
      ],
      "metadata": {
        "id": "pgTEI-f-rHsE"
      },
      "execution_count": null,
      "outputs": []
    },
    {
      "cell_type": "markdown",
      "source": [
        "\n",
        "Исправленная программа:"
      ],
      "metadata": {
        "id": "FU0UcB0HvS1r"
      }
    },
    {
      "cell_type": "code",
      "source": [
        "def non_negatives(nums):\n",
        "    \"\"\"Удалить из списка чисел 'nums' отрицательные элементы и вернуть\n",
        "    измененный список.\"\"\"\n",
        "    result = nums.copy()            #\n",
        "    for number in list(result):     #\n",
        "        if number < 0:              #\n",
        "            result.remove(number)   #\n",
        "\n",
        "    return result\n",
        "\n",
        "import random\n",
        "\n",
        "n = 10\n",
        "nums = [round(random.uniform(-10, 10), 2) for i in range(n)]\n",
        "print(nums)\n",
        "\n",
        "non_negatives(nums)\n",
        "print(nums)\n"
      ],
      "metadata": {
        "colab": {
          "base_uri": "https://localhost:8080/"
        },
        "id": "aVJZ94c0rH58",
        "outputId": "d0ce8749-6ea3-4d5a-ee85-a3ea9e37bfb4"
      },
      "execution_count": null,
      "outputs": [
        {
          "output_type": "stream",
          "name": "stdout",
          "text": [
            "[0.77, -5.51, 1.13, 8.61, -3.06, -8.03, -3.05, -5.55, -8.63, 7.29]\n",
            "[0.77, -5.51, 1.13, 8.61, -3.06, -8.03, -3.05, -5.55, -8.63, 7.29]\n"
          ]
        }
      ]
    },
    {
      "cell_type": "markdown",
      "source": [
        "## 7.2.2. Обработка исключений и утверждения\n",
        "Программы 7.2.6-7.2.11 написаны верно, однако содержат места потенциальных ошибок.\n",
        "\n",
        "Для каждой задачи:\n",
        "\n",
        "найдите потенциальные источники ошибок (укажите номера строк в строке документации);\n",
        "\n",
        "используя конструкцию try добавьте в код обработку соответствующих исключений.\n"
      ],
      "metadata": {
        "id": "nLRkXW-0yUoH"
      }
    },
    {
      "cell_type": "markdown",
      "source": [
        "### 7.2.6"
      ],
      "metadata": {
        "id": "cJBXO5R7rMHa"
      }
    },
    {
      "cell_type": "markdown",
      "source": [
        "Исходная программа:"
      ],
      "metadata": {
        "id": "47RRL518u-TE"
      }
    },
    {
      "cell_type": "code",
      "source": [
        "def unemployment_rate(unemployed, employed):\n",
        "    \"\"\"Вернуть уровень безработицы (УБ) в долях 1.\n",
        "\n",
        "       Расчет по формуле: УБ = Безработные / (Занятые + Безработные).\n",
        "    \"\"\"\n",
        "    return unemployed / (unemployed + employed)\n",
        "\n",
        "\n",
        "unemployed = int(input(\"Введите кол-во безработных (чел.): \"))\n",
        "employed = int(input(\"Введите кол-во занятых (чел.): \"))\n",
        "rate = unemployment_rate(unemployed, employed)\n",
        "print(\"Уровень безработицы = {:.1%}\".format(rate))"
      ],
      "metadata": {
        "id": "Wuiq0J_VrMTG"
      },
      "execution_count": null,
      "outputs": []
    },
    {
      "cell_type": "markdown",
      "source": [
        "\n",
        "Исправленная программа:"
      ],
      "metadata": {
        "id": "fF1WMnNEvUiB"
      }
    },
    {
      "cell_type": "code",
      "source": [
        "def unemployment_rate(unemployed, employed):\n",
        "    \"\"\"Вернуть уровень безработицы (УБ) в долях 1.\n",
        "\n",
        "       Расчет по формуле: УБ = Безработные / (Занятые + Безработные).\n",
        "    \"\"\"\n",
        "    if (unemployed >= 0) and (employed >= 0) and (unemployed + employed != 0):    #\n",
        "        return unemployed / (unemployed + employed)\n",
        "    else:                                                                         #\n",
        "        raise ValueError('проверьте исходные данные')                             #\n",
        "\n",
        "try:                                                                              #\n",
        "    unemployed = int(input(\"Введите кол-во безработных (чел.): \"))\n",
        "    employed = int(input(\"Введите кол-во занятых (чел.): \"))\n",
        "    rate = unemployment_rate(unemployed, employed)\n",
        "    print(\"Уровень безработицы = {:.1%}\".format(rate))\n",
        "except ValueError as error:                                                       #!\n",
        "    print('Ошибка:', error)\n",
        "except Exception as error:\n",
        "    print('Неизвестное ошибка:', error)\n",
        "  "
      ],
      "metadata": {
        "id": "7ddNsk3prMfR",
        "colab": {
          "base_uri": "https://localhost:8080/"
        },
        "outputId": "0e743d36-9a49-4e12-f6a9-7db592f21813"
      },
      "execution_count": 26,
      "outputs": [
        {
          "output_type": "stream",
          "name": "stdout",
          "text": [
            "Введите кол-во безработных (чел.): 19\n",
            "Введите кол-во занятых (чел.): 89\n",
            "Уровень безработицы = 17.6%\n"
          ]
        }
      ]
    },
    {
      "cell_type": "markdown",
      "source": [
        "### 7.2.7"
      ],
      "metadata": {
        "id": "WRuZMjaarQFD"
      }
    },
    {
      "cell_type": "markdown",
      "source": [
        "Исходная программа:"
      ],
      "metadata": {
        "id": "y6KQsFV1vCCq"
      }
    },
    {
      "cell_type": "code",
      "source": [
        "def power(x, y=2):\n",
        "    \"\"\"Вернуть x^y.\"\"\"\n",
        "    if y == 0:\n",
        "        return 1\n",
        "    else:\n",
        "        return x * power(x, y - 1)\n",
        "\n",
        "\n",
        "x = int(input(\"x=\"))\n",
        "y = int(input(\"y=\"))\n",
        "print(power(x, y))"
      ],
      "metadata": {
        "id": "Dg1TZLLMrQQP"
      },
      "execution_count": null,
      "outputs": []
    },
    {
      "cell_type": "markdown",
      "source": [
        "\n",
        "Исправленная программа:"
      ],
      "metadata": {
        "id": "DIn5M0m7vVru"
      }
    },
    {
      "cell_type": "code",
      "source": [
        "def power(x, y=2):\n",
        "    \"\"\"Вернуть x^y.\"\"\"\n",
        "    if y == 0:\n",
        "        return 1\n",
        "    elif y < 0:                                                 #\n",
        "      raise ValueError(f\"y value can not be negative ({y})\")    #\n",
        "    else:\n",
        "        return x * power(x, y - 1)\n",
        "\n",
        "try:\n",
        "\n",
        "    x = int(input(\"x=\"))\n",
        "    y = int(input(\"y=\"))\n",
        "    print(power(x, y))\n",
        "except ValueError as t:                                         #!\n",
        "  print('Ошибка: ', t, 'Проверьте исходные данные')\n",
        "except Exception as t:\n",
        "  print('Ошибка: ', t)"
      ],
      "metadata": {
        "id": "ND6TETfNrQTS",
        "outputId": "fdab8002-4556-4d72-d14f-2c2f0905580f",
        "colab": {
          "base_uri": "https://localhost:8080/"
        }
      },
      "execution_count": null,
      "outputs": [
        {
          "output_type": "stream",
          "name": "stdout",
          "text": [
            "x=12\n",
            "y=2\n",
            "144\n"
          ]
        }
      ]
    },
    {
      "cell_type": "markdown",
      "source": [
        "### 7.2.8"
      ],
      "metadata": {
        "id": "dG_a71l4rURE"
      }
    },
    {
      "cell_type": "markdown",
      "source": [
        "Исходная программа:"
      ],
      "metadata": {
        "id": "1iqcuWjbvDCL"
      }
    },
    {
      "cell_type": "code",
      "source": [
        "\n",
        "# Дан список ФИО. Найти наиболее часто встречаемое отчество.\n",
        "# Если отчества нет, человек не учитывается в подсчете.\n",
        "\n",
        "n = int(input(\"Введите кол-во человек: \"))\n",
        "\n",
        "middle_names = {}\n",
        "for i in range(n):\n",
        "    fio = input(\"Введите ФИО через пробел: \").split()\n",
        "\n",
        "    middle_name = fio[2]\n",
        "    middle_names[middle_name] = middle_names.get(middle_name, 0) + 1\n",
        "\n",
        "print(sorted(middle_names.items(), key=lambda item: item[1])[-1][0])\n",
        "print(\"В расчете участвовало человек:\", n)\n",
        "\n"
      ],
      "metadata": {
        "id": "rMIFPDWQrUid"
      },
      "execution_count": null,
      "outputs": []
    },
    {
      "cell_type": "markdown",
      "source": [
        "\n",
        "Исправленная программа:"
      ],
      "metadata": {
        "id": "ngiCsDtbvXfp"
      }
    },
    {
      "cell_type": "code",
      "source": [
        "# Дан список ФИО. Найти наиболее часто встречаемое отчество.\n",
        "# Если отчества нет, человек не учитывается в подсчете.\n",
        "try:                                                                            #\n",
        "    n = int(input(\"Введите кол-во человек: \"))\n",
        "\n",
        "    middle_names = {}\n",
        "    for i in range(n):\n",
        "        fio = input(\"Введите ФИО через пробел: \").split()\n",
        "        try:                                                                    #\n",
        "            middle_name = fio[2]\n",
        "            middle_names[middle_name] = middle_names.get(middle_name, 0) + 1\n",
        "        except IndexError:                                                      #!\n",
        "            pass\n",
        "\n",
        "    print(sorted(middle_names.items(), key=lambda item: item[1])[-1][0])\n",
        "    print(\"В расчете участвовало человек:\", n)\n",
        "except ValueError as error:                                                     #!\n",
        "    print('Ошибка: ', error)\n",
        "except IndexError as error:\n",
        "    print('Ошибка: ', error)\n",
        "except Exception as t:\n",
        "    print('Ошибка: ', t)"
      ],
      "metadata": {
        "id": "wRN4-dYRrUqt",
        "colab": {
          "base_uri": "https://localhost:8080/"
        },
        "outputId": "8d1feb83-45fd-4596-debf-1c80a1b8d1cc"
      },
      "execution_count": null,
      "outputs": [
        {
          "output_type": "stream",
          "name": "stdout",
          "text": [
            "Введите кол-во человек: 5\n",
            "Введите ФИО через пробел: Елисеев Антон Вячеславович\n",
            "Введите ФИО через пробел: Тяпкина Полина\n",
            "Введите ФИО через пробел: Карпека Татьяна\n",
            "Введите ФИО через пробел: Лебедева Виктория\n",
            "Введите ФИО через пробел: Антонова Анна Андреевна\n",
            "Андреевна\n",
            "В расчете участвовало человек: 5\n"
          ]
        }
      ]
    },
    {
      "cell_type": "markdown",
      "source": [
        "### 7.2.9"
      ],
      "metadata": {
        "id": "nEHIZxRps70b"
      }
    },
    {
      "cell_type": "markdown",
      "source": [
        "Исходная программа:"
      ],
      "metadata": {
        "id": "2bhTVgRYvERs"
      }
    },
    {
      "cell_type": "code",
      "source": [
        "def f(x):\n",
        "    \"\"\"Вернуть значение функции.\n",
        "\n",
        "    Функция не обрабатывает исключения.\n",
        "    \"\"\"\n",
        "    return x**2 / (x + 2) - 3\n",
        "\n",
        "\n",
        "k = int(input(\"Введите границу интервала [-k; k]: \"))\n",
        "h = float(input(\"Введите шаг табуляции: \"))\n",
        "\n",
        "x = -k\n",
        "print(\"{:>10} {:>10}\".format(\"x\", \"f(x)\"))\n",
        "while x <= k:\n",
        "    # Если во время вычисления функции возникнет ошибка,\n",
        "    # при выводе необходимо указать прочерк \"-\"\n",
        "    # Данный случай должен обрабатывать второй вложенный блок try\n",
        "    print(\"{:10.2f} {:10.2f}\".format(x, f(x)))\n",
        "\n",
        "    x += h\n",
        "\n",
        "# --------------\n",
        "# Пример вывода:\n",
        "#\n",
        "# Введите границу интервала [-k; k]: 5\n",
        "# Введите шаг табуляции: 0.5\n",
        "#          x       f(x)\n",
        "#      -5.00     -11.33\n",
        "#      -4.50     -11.10\n",
        "#      -4.00     -11.00\n",
        "#      -3.50     -11.17\n",
        "#      -3.00     -12.00\n",
        "#      -2.50     -15.50\n",
        "#      -2.00          -\n",
        "#      -1.50       1.50\n",
        "#      -1.00      -2.00\n",
        "#      -0.50      -2.83\n",
        "#       0.00      -3.00\n",
        "#       0.50      -2.90\n",
        "#       1.00      -2.67\n",
        "#       1.50      -2.36\n",
        "#       2.00      -2.00\n",
        "#       2.50      -1.61\n",
        "#       3.00      -1.20\n",
        "#       3.50      -0.77\n",
        "#       4.00      -0.33\n",
        "#       4.50       0.12\n",
        "#       5.00       0.57"
      ],
      "metadata": {
        "id": "9zfr4X6bs8C2"
      },
      "execution_count": null,
      "outputs": []
    },
    {
      "cell_type": "markdown",
      "source": [
        "\n",
        "Исправленная программа:"
      ],
      "metadata": {
        "id": "NhPFf5X9vY72"
      }
    },
    {
      "cell_type": "code",
      "source": [
        "def f(x):\n",
        "    \"\"\"Вернуть значение функции.\n",
        "    Функция не обрабатывает исключения.\n",
        "    \"\"\"\n",
        "    return x**2 / (x + 2) - 3\n",
        "try:                                                                  #\n",
        "    k = int(input(\"Введите границу интервала [-k; k]: \"))\n",
        "    h = float(input(\"Введите шаг табуляции: \"))\n",
        "    x = -k\n",
        "    print(\"{:>10} {:>10}\".format(\"x\", \"f(x)\"))\n",
        "    while x <= k:\n",
        "    # Если во время вычисления функции возникнет ошибка,\n",
        "    # при выводе необходимо указать прочерк \"-\"\n",
        "    # Данный случай должен обрабатывать второй вложенный блок try\n",
        "        try:                                                          #!\n",
        "            print(\"{:10.2f} {:10.2f}\".format(x, f(x)))\n",
        "        except ZeroDivisionError:\n",
        "            print('{:10.2f} {:>10}'.format(x, '-'))\n",
        "        x += h\n",
        " \n",
        "except ValueError as error:                                           #!\n",
        "    print('Ошибка: ', error, 'Проверьте исходные данные')\n",
        "except Exception as t:\n",
        "    print('Неизвестная ошибка: ', f'{t.__class__}')\n",
        "# --------------\n",
        "# Пример вывода:\n",
        "#\n",
        "# Введите границу интервала [-k; k]: 5\n",
        "# Введите шаг табуляции: 0.5\n",
        "#          x       f(x)\n",
        "#      -5.00     -11.33\n",
        "#      -4.50     -11.10\n",
        "#      -4.00     -11.00\n",
        "#      -3.50     -11.17\n",
        "#      -3.00     -12.00\n",
        "#      -2.50     -15.50\n",
        "#      -2.00          -\n",
        "#      -1.50       1.50\n",
        "#      -1.00      -2.00\n",
        "#      -0.50      -2.83\n",
        "#       0.00      -3.00\n",
        "#       0.50      -2.90\n",
        "#       1.00      -2.67\n",
        "#       1.50      -2.36\n",
        "#       2.00      -2.00\n",
        "#       2.50      -1.61\n",
        "#       3.00      -1.20\n",
        "#       3.50      -0.77\n",
        "#       4.00      -0.33\n",
        "#       4.50       0.12\n",
        "#       5.00       0.57"
      ],
      "metadata": {
        "colab": {
          "base_uri": "https://localhost:8080/"
        },
        "id": "527VN4LVs8Vd",
        "outputId": "6e5a9081-0114-427a-eb3b-f7fe21f13e29"
      },
      "execution_count": null,
      "outputs": [
        {
          "output_type": "stream",
          "name": "stdout",
          "text": [
            "Введите границу интервала [-k; k]: 5\n",
            "Введите шаг табуляции: 0.5\n",
            "         x       f(x)\n",
            "     -5.00     -11.33\n",
            "     -4.50     -11.10\n",
            "     -4.00     -11.00\n",
            "     -3.50     -11.17\n",
            "     -3.00     -12.00\n",
            "     -2.50     -15.50\n",
            "     -2.00          -\n",
            "     -1.50       1.50\n",
            "     -1.00      -2.00\n",
            "     -0.50      -2.83\n",
            "      0.00      -3.00\n",
            "      0.50      -2.90\n",
            "      1.00      -2.67\n",
            "      1.50      -2.36\n",
            "      2.00      -2.00\n",
            "      2.50      -1.61\n",
            "      3.00      -1.20\n",
            "      3.50      -0.77\n",
            "      4.00      -0.33\n",
            "      4.50       0.12\n",
            "      5.00       0.57\n"
          ]
        }
      ]
    }
  ]
}