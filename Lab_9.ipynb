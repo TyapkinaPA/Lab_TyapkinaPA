{
  "nbformat": 4,
  "nbformat_minor": 0,
  "metadata": {
    "colab": {
      "provenance": [],
      "authorship_tag": "ABX9TyNKGGq8LT7bV2d6QZglxrb+",
      "include_colab_link": true
    },
    "kernelspec": {
      "name": "python3",
      "display_name": "Python 3"
    },
    "language_info": {
      "name": "python"
    }
  },
  "cells": [
    {
      "cell_type": "markdown",
      "metadata": {
        "id": "view-in-github",
        "colab_type": "text"
      },
      "source": [
        "<a href=\"https://colab.research.google.com/github/TyapkinaPA/Lab_TyapkinaPA/blob/main/Lab_9.ipynb\" target=\"_parent\"><img src=\"https://colab.research.google.com/assets/colab-badge.svg\" alt=\"Open In Colab\"/></a>"
      ]
    },
    {
      "cell_type": "markdown",
      "source": [
        "# 9.2. Модули и пакеты.\n",
        "## Выполнилы: Тяпкина Полина\n",
        "## Группа: АДЭУ-221\n",
        "## Номер в moodle: 19\n",
        "## Почта:p.malinka25@gmail.com ,  TyapkinaPA@mgpu.ru \n"
      ],
      "metadata": {
        "id": "gtJmptBVHO9v"
      }
    },
    {
      "cell_type": "markdown",
      "source": [
        "### 9.2.1. Установка и использование модулей\\пакетов"
      ],
      "metadata": {
        "id": "BkL1K2pKHZaR"
      }
    },
    {
      "cell_type": "markdown",
      "source": [
        "#### 9.2.1."
      ],
      "metadata": {
        "id": "k_Jf3UbeH2E4"
      }
    },
    {
      "cell_type": "code",
      "source": [
        "pip install py-romanify"
      ],
      "metadata": {
        "colab": {
          "base_uri": "https://localhost:8080/"
        },
        "id": "YYDNdoZhdkuy",
        "outputId": "e240913d-a668-4b10-9e9b-05dc9771f1a0"
      },
      "execution_count": 1,
      "outputs": [
        {
          "output_type": "stream",
          "name": "stdout",
          "text": [
            "Looking in indexes: https://pypi.org/simple, https://us-python.pkg.dev/colab-wheels/public/simple/\n",
            "Collecting py-romanify\n",
            "  Downloading py-romanify-1.0.0.tar.gz (76 kB)\n",
            "\u001b[2K     \u001b[90m━━━━━━━━━━━━━━━━━━━━━━━━━━━━━━━━━━━━━━━━\u001b[0m \u001b[32m77.0/77.0 KB\u001b[0m \u001b[31m8.4 MB/s\u001b[0m eta \u001b[36m0:00:00\u001b[0m\n",
            "\u001b[?25h  Preparing metadata (setup.py) ... \u001b[?25l\u001b[?25hdone\n",
            "Building wheels for collected packages: py-romanify\n",
            "  Building wheel for py-romanify (setup.py) ... \u001b[?25l\u001b[?25hdone\n",
            "  Created wheel for py-romanify: filename=py_romanify-1.0.0-py3-none-any.whl size=9806 sha256=11205fd2b79b2f1cd507bd3a1b62370d1733959f347777667c1edb581896d076\n",
            "  Stored in directory: /root/.cache/pip/wheels/67/48/79/e904f191fb0a5b413da0ea55912f65c3c2cc388ddccc6ec92f\n",
            "Successfully built py-romanify\n",
            "Installing collected packages: py-romanify\n",
            "Successfully installed py-romanify-1.0.0\n"
          ]
        }
      ]
    },
    {
      "cell_type": "code",
      "source": [
        "arabic = int(input(\"введите арабское число: \"))\n",
        "roman = str(input(\"введите римское число: \"))\n",
        "\n",
        "\n",
        "import romanify\n",
        "\n",
        "\n",
        "def sum_n():\n",
        "  sum_a = arabic + romanify.roman2arabic(roman)\n",
        "  sum_r = romanify.arabic2roman(sum_a)\n",
        "  return sum_a, sum_r\n",
        "\n",
        "  \n",
        "\n",
        "def sub_n():\n",
        "  sub_a = arabic - romanify.roman2arabic(roman)\n",
        "  sub_r = romanify.arabic2roman(sub_a)\n",
        "  return sub_a, sub_r\n",
        "\n",
        "\n",
        "def mult_n():\n",
        "  mult_a = arabic * romanify.roman2arabic(roman)\n",
        "  mult_r = romanify.arabic2roman(mult_a)\n",
        "  return mult_a, mult_r\n",
        "\n",
        "\n",
        "\n",
        "def div_n():\n",
        "  div_a = arabic // romanify.roman2arabic(roman)\n",
        "  div_r = romanify.arabic2roman(div_a)\n",
        "  return div_a, div_r\n",
        "\n",
        "  \n",
        "print(sum_n())\n",
        "print(sub_n())\n",
        "print(mult_n())\n",
        "print(div_n())"
      ],
      "metadata": {
        "id": "w9JIRrkCc8CQ",
        "colab": {
          "base_uri": "https://localhost:8080/"
        },
        "outputId": "2d06d003-99e8-4b2a-c4f2-d32503c6ac79"
      },
      "execution_count": null,
      "outputs": [
        {
          "output_type": "stream",
          "name": "stdout",
          "text": [
            "введите арабское число: 13\n",
            "введите римское число: XIII\n",
            "(26, 'XXVI')\n",
            "(0, '')\n",
            "(169, 'CLXIX')\n",
            "(1, 'I')\n"
          ]
        }
      ]
    },
    {
      "cell_type": "markdown",
      "source": [
        "#### 9.2.2"
      ],
      "metadata": {
        "id": "dEkzpxKLIYKw"
      }
    },
    {
      "cell_type": "code",
      "source": [
        "pip install Pillow pyscreenshot"
      ],
      "metadata": {
        "colab": {
          "base_uri": "https://localhost:8080/"
        },
        "id": "CNGD5BwKeCWV",
        "outputId": "5e83acf3-91e0-4fa2-bb27-cf95d09339a6"
      },
      "execution_count": null,
      "outputs": [
        {
          "output_type": "stream",
          "name": "stdout",
          "text": [
            "Looking in indexes: https://pypi.org/simple, https://us-python.pkg.dev/colab-wheels/public/simple/\n",
            "Requirement already satisfied: Pillow in /usr/local/lib/python3.8/dist-packages (7.1.2)\n",
            "Collecting pyscreenshot\n",
            "  Downloading pyscreenshot-3.0-py3-none-any.whl (27 kB)\n",
            "Collecting EasyProcess\n",
            "  Downloading EasyProcess-1.1-py3-none-any.whl (8.7 kB)\n",
            "Collecting jeepney\n",
            "  Downloading jeepney-0.8.0-py3-none-any.whl (48 kB)\n",
            "\u001b[K     |████████████████████████████████| 48 kB 4.3 MB/s \n",
            "\u001b[?25hCollecting mss\n",
            "  Downloading mss-7.0.1-py3-none-any.whl (76 kB)\n",
            "\u001b[K     |████████████████████████████████| 76 kB 4.8 MB/s \n",
            "\u001b[?25hCollecting entrypoint2\n",
            "  Downloading entrypoint2-1.1-py2.py3-none-any.whl (9.9 kB)\n",
            "Installing collected packages: mss, jeepney, entrypoint2, EasyProcess, pyscreenshot\n",
            "Successfully installed EasyProcess-1.1 entrypoint2-1.1 jeepney-0.8.0 mss-7.0.1 pyscreenshot-3.0\n"
          ]
        }
      ]
    },
    {
      "cell_type": "code",
      "source": [
        "import pyscreenshot as ImageGrab\n",
        "import time\n",
        "from datetime import datetime\n",
        "\n",
        "def take_screenshot():\n",
        "    print(\"Taking screenshot..\")\n",
        "    image = f\"screenshot-{str(datetime.now())}\"\n",
        "    screenshot = ImageGrab.grab()\n",
        "    \n",
        "    filepath = f\"./screenshots/{image}.png\"\n",
        "\n",
        "    print(\"Screenshot taken...\")\n",
        "    \n",
        "    screenshot.save(filepath)\n",
        "\n",
        "    return filepath\n",
        "if __name__ == '__main__' :\n",
        "    print(\"Ураааааааа! Работает! ;)\")"
      ],
      "metadata": {
        "colab": {
          "base_uri": "https://localhost:8080/"
        },
        "id": "M8E5yg_2ylSm",
        "outputId": "6b38d1a8-ec39-42af-eded-f2c03e665af3"
      },
      "execution_count": null,
      "outputs": [
        {
          "output_type": "stream",
          "name": "stdout",
          "text": [
            "Ураааааааа! Работает! ;)\n"
          ]
        }
      ]
    },
    {
      "cell_type": "markdown",
      "source": [
        "#### 9.2.3."
      ],
      "metadata": {
        "id": "_WVN2R9mId6q"
      }
    },
    {
      "cell_type": "code",
      "source": [
        "pip install PyQt5"
      ],
      "metadata": {
        "colab": {
          "base_uri": "https://localhost:8080/"
        },
        "id": "_zj5zjsfglFY",
        "outputId": "7ca630d0-8235-4660-9b2f-f5e155743062"
      },
      "execution_count": null,
      "outputs": [
        {
          "output_type": "stream",
          "name": "stdout",
          "text": [
            "Looking in indexes: https://pypi.org/simple, https://us-python.pkg.dev/colab-wheels/public/simple/\n",
            "Requirement already satisfied: PyQt5 in /usr/local/lib/python3.8/dist-packages (5.15.7)\n",
            "Requirement already satisfied: PyQt5-Qt5>=5.15.0 in /usr/local/lib/python3.8/dist-packages (from PyQt5) (5.15.2)\n",
            "Requirement already satisfied: PyQt5-sip<13,>=12.11 in /usr/local/lib/python3.8/dist-packages (from PyQt5) (12.11.0)\n"
          ]
        }
      ]
    },
    {
      "cell_type": "code",
      "source": [
        "\n",
        "import sys\n",
        "from PyQt5.QtWidgets import (\n",
        "    QApplication,\n",
        "    QWidget,\n",
        "    QLabel,\n",
        "    QLineEdit,\n",
        "    QGridLayout,\n",
        "    QHBoxLayout,\n",
        "    QPushButton,\n",
        "    QGroupBox,\n",
        "    QSizePolicy\n",
        ")\n",
        "from PyQt5.QtCore import Qt\n",
        "from PyQt5.QtGui import QIcon\n",
        "# Масштабирование для 4K-Мониторов\n",
        "import PyQt5\n",
        "QApplication.setAttribute(PyQt5.QtCore.Qt.AA_EnableHighDpiScaling, True)\n",
        "\n",
        "\n",
        "def make_operation(a, b, op):\n",
        "    \"\"\"Вернуть результат операции 'op' над 'a' и 'b'.\n",
        "\n",
        "    Параметры:\n",
        "        - a (int): первое число;\n",
        "        - b (int): первое число;\n",
        "        - op (str): операция над числами (\"+\", \"-\", \"*\", \"/\", \"//\", \"%\").\n",
        "\n",
        "    Результат:\n",
        "        - int, float или None (если нет такой операции).\n",
        "    \"\"\"\n",
        "    if op == \"+\":\n",
        "        return a + b\n",
        "    if op == '-':\n",
        "      return a-b\n",
        "    if op == '*':\n",
        "      return a*b\n",
        "    if op == '/':\n",
        "      return a/b\n",
        "    if op == '//':\n",
        "      return a//b\n",
        "    if op == '%':\n",
        "      return a%b \n",
        "\n",
        "def on_click(op):\n",
        "    try:\n",
        "        x = int(edt_x.text())\n",
        "        y = int(edt_y.text())\n",
        "        edt_res.setText(\"{}\".format(make_operation(x, y, op)))\n",
        "    except Exception as err:\n",
        "        # Текст ошибки выводится в текстовое поле и терминал\n",
        "        print(type(err), err)\n",
        "        edt_res.setText(\"Не могу выполнить операцию!\")\n",
        "\n",
        "\n",
        "if __name__ == \"__main__\":\n",
        "    app = QApplication(sys.argv)\n",
        "\n",
        "    # Главное окно приложения\n",
        "    w = QWidget()\n",
        "    w.setFixedSize(400, 150)\n",
        "    w.setWindowTitle(\"Мини-калькулятор\")\n",
        "    w.setWindowIcon(QIcon('main_icon.png'))\n",
        "\n",
        "    # Общее расположение элементов - сетка\n",
        "    grid = QGridLayout()\n",
        "    grid.setSpacing(10)\n",
        "\n",
        "    # 1-е метка\n",
        "    lbl_x = QLabel(\"Первое число:\")\n",
        "    # 2-е метка\n",
        "    lbl_y = QLabel(\"Второе число:\")\n",
        "    # Метка для результата\n",
        "    lbl_res = QLabel(\"Результат:\")\n",
        "\n",
        "    buttons_layout = QHBoxLayout()\n",
        "    grid.setSpacing(5)\n",
        "\n",
        "    # Кнопки\n",
        "    btn_add = QPushButton(\"+\")\n",
        "    btn_add1 = QPushButton(\"-\")\n",
        "    btn_add2 = QPushButton(\"*\")\n",
        "    btn_add3 = QPushButton(\"/\")\n",
        "    btn_add4 = QPushButton(\"//\")\n",
        "    btn_add5 = QPushButton(\"%\")\n",
        "    btn_add.setSizePolicy(QSizePolicy.Expanding, QSizePolicy.Expanding)\n",
        "    btn_add1.setSizePolicy(QSizePolicy.Expanding, QSizePolicy.Expanding)\n",
        "    btn_add2.setSizePolicy(QSizePolicy.Expanding, QSizePolicy.Expanding)\n",
        "    btn_add3.setSizePolicy(QSizePolicy.Expanding, QSizePolicy.Expanding)\n",
        "    btn_add4.setSizePolicy(QSizePolicy.Expanding, QSizePolicy.Expanding)\n",
        "    btn_add5.setSizePolicy(QSizePolicy.Expanding, QSizePolicy.Expanding)\n",
        "    # Удалите комментарий и допишите код\n",
        "\n",
        "    buttons_layout.addWidget(btn_add)\n",
        "    buttons_layout.addWidget(btn_add1)\n",
        "    buttons_layout.addWidget(btn_add2)\n",
        "    buttons_layout.addWidget(btn_add3)\n",
        "    buttons_layout.addWidget(btn_add4)\n",
        "    buttons_layout.addWidget(btn_add5)\n",
        "    # Удалите комментарий и допишите код\n",
        "\n",
        "    # Действия кнопок\n",
        "    btn_add.clicked.connect(lambda: on_click(\"+\"))\n",
        "    btn_add1.clicked.connect(lambda: on_click(\"-\"))\n",
        "    btn_add2.clicked.connect(lambda: on_click(\"*\"))\n",
        "    btn_add3.clicked.connect(lambda: on_click(\"/\"))\n",
        "    btn_add4.clicked.connect(lambda: on_click(\"//\"))\n",
        "    btn_add5.clicked.connect(lambda: on_click(\"%\"))\n",
        "    # Удалите комментарий и допишите код\n",
        "\n",
        "    # 1-е текстовое поле\n",
        "    edt_x = QLineEdit()\n",
        "    edt_x.setAlignment(Qt.AlignCenter)\n",
        "    # 2-е текстовое поле\n",
        "    edt_y = QLineEdit()\n",
        "    edt_y.setAlignment(Qt.AlignCenter)\n",
        "    # Поле для результата\n",
        "    edt_res = QLineEdit()\n",
        "    edt_res.setAlignment(Qt.AlignCenter)\n",
        "    edt_res.setReadOnly(True)\n",
        "\n",
        "    gb_ops = QGroupBox(\"Операции\")\n",
        "    gb_ops.setLayout(buttons_layout)\n",
        "\n",
        "    # Общее расположение элементов\n",
        "    grid.addWidget(lbl_x, 0, 0, Qt.AlignRight)\n",
        "    grid.addWidget(edt_x, 0, 1)\n",
        "    grid.addWidget(lbl_y, 0, 2, Qt.AlignRight)\n",
        "    grid.addWidget(edt_y, 0, 3)\n",
        "    grid.addWidget(gb_ops, 1, 0, 1, 4)\n",
        "    grid.addWidget(lbl_res, 2, 0, Qt.AlignRight)\n",
        "    grid.addWidget(edt_res, 2, 1, 1, 3)\n",
        "\n",
        "    # Запуск приложения\n",
        "    w.setLayout(grid)\n",
        "    w.show()\n",
        "    sys.exit(app.exec_())\n"
      ],
      "metadata": {
        "id": "rxR3q0JqEJzo"
      },
      "execution_count": null,
      "outputs": []
    },
    {
      "cell_type": "markdown",
      "source": [
        "### 9.2.2. Создание модулей."
      ],
      "metadata": {
        "id": "MfmKxBsvKOUg"
      }
    },
    {
      "cell_type": "markdown",
      "source": [
        "#### 9.2.5."
      ],
      "metadata": {
        "id": "9PJk9iQeJ8Li"
      }
    },
    {
      "cell_type": "code",
      "source": [
        "#код для numeral_systems\n",
        "DIGITS_ALL = '0123456789ABCDEF'\n",
        "\n",
        "\n",
        "class WrongBaseError(ValueError):\n",
        "    pass\n",
        "\n",
        "\n",
        "def tenth_to_base(number, base):\n",
        "    \"\"\"Преобразовать десятичное число 'number' в сис.счисл. 'base'.\n",
        "\n",
        "    Параметры:\n",
        "        number (int): десятичное число;\n",
        "        base (int): система счисления (2-16).\n",
        "\n",
        "    Результат:\n",
        "        str: число в сис.счисл. 'base'.\n",
        "\n",
        "    Исключения:\n",
        "       WrongBaseError: если 'base' не входит в допустимый диапазон (2-16).\"\"\"\n",
        "    f = ''\n",
        "    while number > 0:\n",
        "        new = number % base\n",
        "        f = DIGITS_ALL[new] + f\n",
        "        number = number // base\n",
        "    return f\n",
        "\n",
        "\n",
        "def base_to_tenth(number, base):\n",
        "    \"\"\"Преобразовать число 'number' в сисис.счисл. 'base' в\n",
        "    в десятичную сис.счисл.\n",
        "\n",
        "    Параметры:\n",
        "        number (str): число в сис.счисл. 'base';\n",
        "        base (int): система счисления (2-16).\n",
        "\n",
        "    Результат:\n",
        "        int: число в 10-й сис.счисл.\n",
        "\n",
        "    Исключения:\n",
        "       WrongBaseError: если число 'number' не существует в сис.счисл. 'base'\n",
        "       или 'base' не входит в допустимый диапазон (2-16).\"\"\"\n",
        "    n = 0\n",
        "    done = 0\n",
        "    while number >= 1:\n",
        "        new1 = number % 10 * (base**n)\n",
        "        n += 1\n",
        "        done += new1\n",
        "        number = number // 10\n",
        "    return done\n",
        "\n",
        "\n",
        "def convert(number, base1, base2):\n",
        "    \"\"\"Преобразовать число 'number' из сис.счисл. 'base1' в сис.счисл. 'base2'.\n",
        "\n",
        "    Функция только вызывает внутри функции tenth_to_base() и base_to_tenth().\n",
        "\n",
        "    Параметры:\n",
        "        number (str): число в сис.счисл. 'base1';\n",
        "        base1 (int): система счисления числа 'number';\n",
        "        base2 (int): целевая система счисления.\n",
        "\n",
        "    Результат:\n",
        "        str: число в 'base2' сис.счисл.\"\"\"\n",
        "    return tenth_to_base(base_to_tenth(int(number), base1), base2)"
      ],
      "metadata": {
        "id": "16T3xGoTI6HK"
      },
      "execution_count": 2,
      "outputs": []
    },
    {
      "cell_type": "markdown",
      "source": [
        "#### 9.2.7."
      ],
      "metadata": {
        "id": "2UbVqxSxJXBB"
      }
    },
    {
      "cell_type": "code",
      "source": [
        "try:\n",
        "    first = int(input())\n",
        "    second = int(input())\n",
        "\n",
        "except TypeError:\n",
        "    print(\"Введите целые числа!\")\n",
        "except ValueError:\n",
        "    print(\"Введите числа отличные от нуля!\")\n",
        "\n",
        "\n",
        "def gcd(first, second):  # Нахожу по алгоритму Евклида\n",
        "    \"\"\"Вернуть НОД для целых чисел 'first' и 'second'.\n",
        "\n",
        "    Пример:\n",
        "        - gcd(54, 24) == 6;\n",
        "        - gcd(-54, 24) == 6.\n",
        "\n",
        "    Исключения:\n",
        "        - TypeError: 'first' или 'second' - любой тип кроме int;\n",
        "        - ValueError: 'first' или second равны 0.\n",
        "    \"\"\"\n",
        "\n",
        "    while first != 0 and second != 0:\n",
        "        if first > second:\n",
        "            first = first % second\n",
        "        else:\n",
        "            second = second % first\n",
        "\n",
        "    nod = first + second\n",
        "    return nod\n",
        "\n",
        "\n",
        "print(gcd(first, second))\n",
        "\n",
        "\n",
        "def lcm(first, second):\n",
        "    \"\"\"Вернуть НОК для чисел 'first' и 'second'.\n",
        "\n",
        "    Пример:\n",
        "        - lcm(4, 6) == 12;\n",
        "        - lcm(-4, 6) == 12.\n",
        "\n",
        "    Исключения:\n",
        "        - TypeError: 'first' или 'second' - любой тип кроме int;\n",
        "        - ValueError: 'first' или second равны 0.\n",
        "\n",
        "    \"\"\"\n",
        "    if first > second:\n",
        "        greater = first\n",
        "    else:\n",
        "        greater = second\n",
        "    while (True):\n",
        "        if ((greater % first == 0) and (greater % second == 0)):\n",
        "            lcm1 = greater\n",
        "            break\n",
        "        greater += 1\n",
        "    return lcm1\n",
        "\n",
        "\n",
        "print(lcm(first, second))\n",
        "\n",
        "\n",
        "try:\n",
        "    number = int(input())\n",
        "except TypeError:\n",
        "    print(\"Введите целое число!\")\n",
        "except ValueError:\n",
        "    print(\"Не натуральное число!\")\n",
        "\n",
        "\n",
        "def is_prime(number):\n",
        "    \"\"\"Вернуть True, если 'number' - простое число, иначе False.\n",
        "\n",
        "    Пример: is_prime(7) == True.\n",
        "\n",
        "    Исключения:\n",
        "        - TypeError: 'number' - любой тип кроме int;\n",
        "        - ValueError: 'number' - не натуральное число.\n",
        "    \"\"\"\n",
        "    k = 0\n",
        "    for i in range(2, number // 2 + 1):\n",
        "        if (number % i == 0):\n",
        "            k = k + 1\n",
        "    if (k <= 0):\n",
        "        return True\n",
        "    else:\n",
        "        return False\n",
        "\n",
        "\n",
        "print(is_prime(number))\n",
        "\n",
        "\n",
        "def inverse(number):\n",
        "    \"\"\"Вернуть число, обратное 'number' (1 / number).\n",
        "\n",
        "    Пример: inverse(2) == 0.5.\n",
        "\n",
        "    Исключения:\n",
        "        - TpeError: 'number' - любой тиyп кроме int, float;\n",
        "        - ZeroDivisionError: 'number' - 0.\n",
        "    \"\"\"\n",
        "    nm = 1 / number\n",
        "    return nm\n",
        "\n",
        "\n",
        "print(inverse(number))\n",
        "\n",
        "\n",
        "try:\n",
        "    power = int(input())\n",
        "\n",
        "except TypeError:\n",
        "    print(\"Введите число!\")\n",
        "except ValueError:\n",
        "    print(\"Введите число, отличное от нуля!\")\n",
        "except ValueError:\n",
        "    print(\"Значение степени меньше единицы!\")\n",
        "\n",
        "\n",
        "def root(number, power):\n",
        "    \"\"\"Вернуть корень 'power'-степени из 'number'.\n",
        "\n",
        "    Пример: root(9) == 3.0.\n",
        "\n",
        "    Исключения:\n",
        "        - TypeError: 'number' - любой тип кроме int, float;\n",
        "        - TypeError: 'power' - любой тип кроме int, float;\n",
        "        - ValueError: 'power' - меньше единицы.\n",
        "    \"\"\"\n",
        "    res = number ** (1 / power)\n",
        "    return res\n",
        "\n",
        "\n",
        "print(root(number, power))\n",
        "\n",
        "     "
      ],
      "metadata": {
        "id": "3JzsiobGJWud"
      },
      "execution_count": null,
      "outputs": []
    }
  ]
}