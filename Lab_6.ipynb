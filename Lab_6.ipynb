{
  "nbformat": 4,
  "nbformat_minor": 0,
  "metadata": {
    "colab": {
      "provenance": [],
      "authorship_tag": "ABX9TyPKk2cjBmU74FTxfxx3mw68",
      "include_colab_link": true
    },
    "kernelspec": {
      "name": "python3",
      "display_name": "Python 3"
    },
    "language_info": {
      "name": "python"
    }
  },
  "cells": [
    {
      "cell_type": "markdown",
      "metadata": {
        "id": "view-in-github",
        "colab_type": "text"
      },
      "source": [
        "<a href=\"https://colab.research.google.com/github/TyapkinaPA/Lab_TyapkinaPA/blob/main/Lab_6.ipynb\" target=\"_parent\"><img src=\"https://colab.research.google.com/assets/colab-badge.svg\" alt=\"Open In Colab\"/></a>"
      ]
    },
    {
      "cell_type": "markdown",
      "source": [
        "# 6.2. Вычислительная сложность алгоритмов.\n",
        "## Выполнилы: Тяпкина Полина\n",
        "## Группа: АДЭУ-221\n",
        "## Номер в moodle: 19\n",
        "## Почта:p.malinka25@gmail.com ,  TyapkinaPA@mgpu.ru \n"
      ],
      "metadata": {
        "id": "6ufixpHJGxbk"
      }
    },
    {
      "cell_type": "markdown",
      "source": [
        "## 6.2.1. Оценка сложности алгоритмов.\n",
        "### Для задач 6.2.1-6.2.7 ответьте на следующие вопросы:\n",
        "\n",
        "### Что выполняет приведенная функция?\n",
        "\n",
        "### Какова вычислительная сложность алгоритма (наихудшая оценка, O-нотацию)?\n",
        "\n",
        "### Ответы необходимо указать в строке документации с пометкой «Алгоритм» и «Сложность» соответственно. Сложность - один из вариантов:\n",
        "\n",
        "### O(1), O(N), O(log(N)), O(N log(N)) или O(N^2). \n",
        "### считая, что N - размер входных данных.\n",
        "\n",
        "### № 6.2.1 - 6.2.7\n",
        "\n",
        "### См. заготовки.\n",
        "\n",
        "\n"
      ],
      "metadata": {
        "id": "LkwxfBbKHe3T"
      }
    },
    {
      "cell_type": "markdown",
      "source": [
        "### 6.2.1."
      ],
      "metadata": {
        "id": "jpb3iwCQID2Q"
      }
    },
    {
      "cell_type": "code",
      "execution_count": null,
      "metadata": {
        "id": "abqwGOWhEFL1"
      },
      "outputs": [],
      "source": [
        "def foo(a):\n",
        "    \"\"\"Квадратичное время: O(N2).\n",
        "\n",
        "        Время выполнения пропорционально квадрату количества элементов в коллекции.\n",
        "\n",
        "        Пример: вложенные циклы (сортировка, перебор делителей и т.д.).\n",
        "\n",
        "    Сложность: O(N^2). N = len(a)\n",
        "    \"\"\"\n",
        "    for i in range(len(a), 0, -1):                # O(N) + O(1)\n",
        "        for j in range(1, i):                     # O(N)\n",
        "            if a[j-1] > a[j]:                     # O(1) + O(len(a)) \n",
        "                a[j-1], a[j] = a[j], a[j-1]       # O(1) + O(1)\n",
        "    return a                                      # O(1)\n",
        "\n",
        "# общая сложность: (O(N) + O(1))*O(N)+O(1)+O(len(a))+O(1)+O(1)+O(1) = \n",
        "#= (N^2) + O(1)*O(N) + O(len(a)) + 4*O(1) = O(N^2) + O(N)+O(len(a))+ O(1)= O(N^2)\n",
        "a = [1, 2, 3, 4, 2, 1, 3, 4, 3, 5, -2, -2, 2, -2, 65, 2, 2]\n",
        "foo(a)"
      ]
    },
    {
      "cell_type": "markdown",
      "source": [
        "### 6.2.2."
      ],
      "metadata": {
        "id": "L-UJlBuoIN9r"
      }
    },
    {
      "cell_type": "code",
      "source": [
        "def foo(i):\n",
        "    \"\"\"!!!\n",
        "\n",
        "    Параметры:\n",
        "        - i (int): число.\n",
        "\n",
        "    Сложность: !!!.\n",
        "    \"\"\"\n",
        "    digits = \"0123456789\"\n",
        "    if i == 0:                           # O(1)+O(N)\n",
        "        return 0                         # O(1)\n",
        "    result = \"\"                          # O(N)\n",
        "    while i > 0:                         # O(N)\n",
        "        result = digits[i%10] + result   # O(1)\n",
        "        i = i // 10                      # O(1)\n",
        "    return result                        # O(1)\n",
        "\n",
        "#общая сложность: O(1)+O(N)+O(1)+O(N)+O(N)+O(1)+O(1)+O(1) = 3*O(N)+5*O(1) = O(N)"
      ],
      "metadata": {
        "id": "zIAUPTAWIQwj"
      },
      "execution_count": 3,
      "outputs": []
    },
    {
      "cell_type": "markdown",
      "source": [
        "### 6.2.3."
      ],
      "metadata": {
        "id": "5KDnqzvTIo7J"
      }
    },
    {
      "cell_type": "code",
      "source": [
        "def foo(s):\n",
        "    \"\"\"!!!\n",
        "\n",
        "    Параметры:\n",
        "        - s (str): строка.\n",
        "\n",
        "    Сложность: !!!.\n",
        "    \"\"\"\n",
        "    val = 0                  # O(1)\n",
        "    for c in s:              # O(N)\n",
        "        if c.isdigit():      # O(1)+O(N)\n",
        "            val += int(c)    # O(1)\n",
        "    return val               # O(1)\n",
        "#общая сложность: O(1) + O(N) * (O(1) + O(N)) + O(1) + O(1) =\n",
        "#=O(N^2) + O(N) * O(1) + 3 * O(1) = O(N^2)"
      ],
      "metadata": {
        "id": "iqEFbdqtIri0"
      },
      "execution_count": 4,
      "outputs": []
    },
    {
      "cell_type": "markdown",
      "source": [
        "### 6.2.4."
      ],
      "metadata": {
        "id": "QZcnYKtIIw3N"
      }
    },
    {
      "cell_type": "code",
      "source": [
        "def foo(n):\n",
        "    \"\"\"!!!\n",
        "\n",
        "    Параметры:\n",
        "        - n (int): число.\n",
        "\n",
        "    Сложность: !!!.\n",
        "    \"\"\"\n",
        "    res = []                            # O(1)\n",
        "    for i in range(1, n + 1):           # O(N)\n",
        "        divisors = 0                    # O(1)\n",
        "        j = 2                           # O(1)\n",
        "        while j < i and divisors == 0:  # O(N)+O(len(j))+O(N)\n",
        "            if i % j == 0:              # O(1)+O(N)\n",
        "                divisors += 1           # O(1)\n",
        "            j += 1                      # O(1)\n",
        "\n",
        "        if divisors == 0:               # O(1)+O(N)\n",
        "            res.append(i)               # O(1)\n",
        "\n",
        "    return res                          # O(1)\n",
        "\n",
        "#общая сложность: O(1)+O(N)*(O(N)+O(len(j))+O(N))*(O(1)+O(N))*(O(1)+O(N))+O(1)+\n",
        "#+O(1)+O(1)+O(1)+O(1)+O(1)=7*O(1)+3*O(N^2) <...> =O(N^2)"
      ],
      "metadata": {
        "id": "mrhN1YXOIuqY"
      },
      "execution_count": 5,
      "outputs": []
    },
    {
      "cell_type": "markdown",
      "source": [
        "### 6.2.5."
      ],
      "metadata": {
        "id": "TMkKsb4AI7yb"
      }
    },
    {
      "cell_type": "code",
      "source": [
        "def foo(nums):\n",
        "    \"\"\"!!!\n",
        "\n",
        "    Параметры:\n",
        "        - nums (list): список.\n",
        "\n",
        "    Сложность: !!!.\n",
        "    \"\"\"\n",
        "    for x in nums:           # O(N)\n",
        "        if x % 2 == 0:       # O(1)\n",
        "            return True      # O(1)\n",
        "    else:                    # O(1)\n",
        "        return False         # O(1)\n",
        "\n",
        "# общая сложность: O(N)*O(1)+3*O(1) = O(N)"
      ],
      "metadata": {
        "id": "Abxy-1L3JGJw"
      },
      "execution_count": null,
      "outputs": []
    },
    {
      "cell_type": "markdown",
      "source": [
        "### 6.2.6."
      ],
      "metadata": {
        "id": "8cT4BZ_GJHUt"
      }
    },
    {
      "cell_type": "code",
      "source": [
        "def foo(nums):\n",
        "    \"\"\"!!!\n",
        "\n",
        "    Параметры:\n",
        "        - nums (list): список.\n",
        "\n",
        "    Сложность: !!!.\n",
        "    \"\"\"\n",
        "    return (nums[0] + nums[-1] ** 2)  # O(1) + O(1) = O(1)\n",
        "\n",
        "# общая сложность: O(1)"
      ],
      "metadata": {
        "id": "Dh-Vs81GJKve"
      },
      "execution_count": null,
      "outputs": []
    },
    {
      "cell_type": "markdown",
      "source": [
        "### 6.2.7."
      ],
      "metadata": {
        "id": "-fqt9yAUJNdH"
      }
    },
    {
      "cell_type": "code",
      "source": [
        "def foo(low, high):\n",
        "    \"\"\"!!!\n",
        "\n",
        "    Параметры:\n",
        "        - low (int): нижняя граница;\n",
        "        - high (int): верхняя граница.\n",
        "\n",
        "    Сложность: !!!.\n",
        "    \"\"\"\n",
        "    guessing = True                                   # O(1)\n",
        "    while guessing:                                   # O(N)\n",
        "        guess = (low + high) // 2                     # O(1)\n",
        "        print(\"Загаданное число {0}?\".format(guess))  # O(1)\n",
        "        pointer = input(\n",
        "            \"Введите '+', если Ваше число меньше.\\n\"\n",
        "            \"Введите '-' если Ваше число больше.\\n\"\n",
        "            \"Введите '=', если я угадал.\\n\").lower()  # O(1)\n",
        "        if pointer == \"+\":                            # O(1)\n",
        "            high = guess                              # O(1)\n",
        "        elif pointer == \"-\":                          # O(1)\n",
        "            low = guess                               # O(1)\n",
        "        elif pointer == \"=\":                          # O(1)\n",
        "            guessing = False                          # O(1)\n",
        "        else:                                         # O(1)\n",
        "            print(\"Введите '+', '-' или '='.\")        # O(1)\n",
        "\n",
        "    return guess                                      # O(1)\n",
        "\n",
        "\n",
        "# ЗАКОММЕНТИРУЙТЕ этот код перед запуском проверки\n",
        "low, high = 0, 100\n",
        "print(\"Пожалуйста, загадайте число от {0} до {1}!\".format(low, high))\n",
        "guess = foo(low, high)\n",
        "print(\"Игра окончена, Вы загадали число: {0}.\".format(guess))\n",
        "\n",
        "# общая сложность: O(1) + O(N) * (11 * O(1)) = O(N)"
      ],
      "metadata": {
        "id": "4MAPP9fHJUHI"
      },
      "execution_count": null,
      "outputs": []
    },
    {
      "cell_type": "markdown",
      "source": [
        "## 6.2.2. Сравнение сложности алгоритмов.\n",
        "### Для каждой задачи ниже:\n",
        "\n",
        "### Реализуйте требуемые способы решения.\n",
        "\n",
        "### Укажите наихудшую вычислительную (асимптотическую) сложность каждого из способов в строке документации.\n",
        "\n",
        "### Сравните способы решения, сопоставив их асимптотические и временные сложности (устно)."
      ],
      "metadata": {
        "id": "fljffPbvNapC"
      }
    },
    {
      "cell_type": "markdown",
      "source": [
        "### 6.2.8.\n",
        "#### Дан список случайных чисел. Определить значения минимального и максимального элементов списка."
      ],
      "metadata": {
        "id": "2N5S6iIcNSZT"
      }
    },
    {
      "cell_type": "code",
      "source": [
        "import random\n",
        "import time\n",
        "\n",
        "\n",
        "def timeit(func, *args, **kw):\n",
        "    \"\"\"Выполнить функицю 'func' с параметрами '*args', '**kw' и\n",
        "    вернуть время выполнения в мс.\"\"\"\n",
        "\n",
        "    time_start = time.time()\n",
        "    res = func(*args, **kw)\n",
        "    time_end = time.time()\n",
        "\n",
        "    return (time_end - time_start) * 1000.0, res\n",
        "\n",
        "\n",
        "def maxmin1(data):\n",
        "    \"\"\"Вернуть минимум и максимум из 'data'.\n",
        "\n",
        "    Алгоритм:\n",
        "        Последовательный перебор всего массива.\n",
        "\n",
        "    Сложность: O(N).\n",
        "\n",
        "    Параметры:\n",
        "        - data (list of int): список целых чисел.\n",
        "\n",
        "    Результат:\n",
        "        tuple: мин. и макс. значения.\"\"\"\n",
        "    max_1 = data[0]     # O(1)\n",
        "    for x in data:      # O(N)\n",
        "      if x > max_1:     # O(1)\n",
        "        max_1 = x       # O(1)\n",
        "      \n",
        "    min_1 = data[0]     # O(1)\n",
        "    for y in data:      # O(N)\n",
        "      if y > min_1:     # O(1)\n",
        "        min_1 = x       # O(1)\n",
        "    return max_1, min_1 # O(1)\n",
        "# общая сложность maxmin1: O(1) + O(N) * 2 * O(1) + O(1) + O(N) * 2*O(1) + O(1) =O(N) \n",
        "\n",
        "def maxmin2(data):\n",
        "    \"\"\"Вернуть минимум и максимум из 'data'.\n",
        "\n",
        "    Алгоритм:\n",
        "        Сортировка списка, и возврат первого и последнего элементов.\n",
        "\n",
        "    Сложность: O(N Log N).\n",
        "\n",
        "    Параметры:\n",
        "        - data (list of int): список целых чисел.\n",
        "\n",
        "    Результат:\n",
        "        tuple: мин. и макс. значения.\"\"\"\n",
        "    data.sort()         # O(N Log N)\n",
        "    max_2 = data[-1]    # O(1)\n",
        "    min_2 = data[0]     # O(1)\n",
        "    return max_2, min_2 # O(1)\n",
        "# общая сложность maxmin2: O(N Log N) + 3*O(1) = O(N Log N)\n",
        "\n",
        "def maxmin3(data):\n",
        "    \"\"\"Вернуть минимум и максимум из 'data'.\n",
        "\n",
        "    Алгоритм:\n",
        "        Используя встроенные функции min() и max().\n",
        "\n",
        "    Сложность: O(N).\n",
        "\n",
        "    Параметры:\n",
        "        - data (list of int): список целых чисел.\n",
        "\n",
        "    Результат:\n",
        "        tuple: мин. и макс. значения.\"\"\"\n",
        "    max_3 = max(data)   # O(N)\n",
        "    min_3 = min(data)   # O(N)\n",
        "    return max_3, min_3 # O(1)\n",
        "# общая сложность maxmin3: 2*O(N) + O(1) = O(N)\n",
        "\n",
        "if __name__ == \"__main__\":\n",
        "    GEN_LIMIT = 1000000\n",
        "    dataset = []\n",
        "    for i in range(4, 7):\n",
        "        dataset.append(random.sample(range(-GEN_LIMIT, GEN_LIMIT), 10**i))\n",
        "\n",
        "    res = [[\"i\", \"1 способ (мс.)\", \"2 способ (мс.)\", \"3 способ (мс.)\"]]\n",
        "    for data in dataset:\n",
        "        res.append([len(data),\n",
        "                   timeit(maxmin1, data)[0],\n",
        "                   timeit(maxmin2, data)[0],\n",
        "                   timeit(maxmin3, data)[0]])\n",
        "\n",
        "    # Вывод\n",
        "    print(\"{:>15} {:>15} {:>15} {:>15}\".format(*res[0]))\n",
        "    for r in res[1:]:\n",
        "        print(\"{:>15} {:>15.2f} {:>15.2f} {:>15.2f}\".format(*r))\n",
        "\n",
        "# -------------\n",
        "# Пример вывода:\n",
        "#\n",
        "#              i  1 способ (мс.)  2 способ (мс.)  3 способ (мс.)\n",
        "#          10000            1.00            5.00            0.00\n",
        "#            ...\n",
        "\n"
      ],
      "metadata": {
        "id": "ttj8QgYkNQj5"
      },
      "execution_count": null,
      "outputs": []
    },
    {
      "cell_type": "markdown",
      "source": [
        "### 6.2.9\n",
        "#### По вылету из аэропорта осуществляется паспортный контроль: сотрудник пограничной службы выполняет проверку в специальном приложении.\n",
        "\n",
        "#### Для каждого паспорта в приложении хранится (количество записей большое):\n",
        "\n",
        "#### номер: 7-значное число;\n",
        "\n",
        "#### отметка о допуске: может / не может пересекать границу.\n",
        "\n",
        "#### Предполагается, что проверка осуществляется путем ввода номера паспорта, после чего приложение должно выдать отметку о допуске (отсутствие паспорта в приложении аналогично отсутствие возможности вылета).\n",
        "\n",
        "#### Реализуйте функцию проверки допуска к вылету."
      ],
      "metadata": {
        "id": "aRchVajWQfCl"
      }
    },
    {
      "cell_type": "code",
      "source": [
        "import random\n",
        "import time\n",
        "\n",
        "\n",
        "def timeit(func, *args, **kw):\n",
        "    \"\"\"Выполнить функицю 'func' с параметрами '*args', '**kw' и\n",
        "    вернуть время выполнения в мс.\"\"\"\n",
        "\n",
        "    time_start = time.time()\n",
        "    res = func(*args, **kw)\n",
        "    time_end = time.time()\n",
        "\n",
        "    return (time_end - time_start) * 1000.0, res\n",
        "\n",
        "\n",
        "def is_ok_to_pass_1(db, passport_id):\n",
        "    \"\"\"Вернуть отметку о допуске из 'db' для паспорта с номером 'passport_id'.\n",
        "\n",
        "    Если паспорт не найден в базе данных, возвращается отказ в допуске.\n",
        "\n",
        "    Алгоритм:\n",
        "        Последовательный перебор списка.\n",
        "\n",
        "    Сложность: !!!.\n",
        "\n",
        "    Параметры:\n",
        "        - db (list of dict): база данных;\n",
        "        - passport_id (str): номер паспорта.\n",
        "\n",
        "    Результат:\n",
        "        bool: отметка о допуске.\"\"\"\n",
        "    # Удалите комментарий и допишите код\n",
        "\n",
        "\n",
        "def is_ok_to_pass_2(db_opt, passport_id):\n",
        "    \"\"\"Вернуть отметку о допуске из 'db_opt' для паспорта с номером 'passport_id'.\n",
        "\n",
        "    Если паспорт не найден в базе данных, возвращается отказ в допуске.\n",
        "\n",
        "    Алгоритм:\n",
        "        !!!.\n",
        "\n",
        "    Сложность: !!!.\n",
        "\n",
        "    Параметры:\n",
        "        - db_opt (dict): оптимизированная база данных для поиска;\n",
        "        - passport_id (str): номер паспорта.\n",
        "\n",
        "    Результат:\n",
        "        bool: отметка о допуске.\"\"\"\n",
        "    # Удалите комментарий и допишите код\n",
        "\n",
        "\n",
        "def ok_str(flag):\n",
        "    return \"Да\" if flag else \"Нет\"\n",
        "\n",
        "\n",
        "if __name__ == \"__main__\":\n",
        "    print(\"Загрузка базы данных... \")\n",
        "\n",
        "    GEN_LIMIT = 1000000\n",
        "    # База данных\n",
        "    db = [{\"id\": \"{:07d}\".format(i), \"ok\": random.random() < 0.9}\n",
        "          for i in random.sample(range(GEN_LIMIT, 10 * GEN_LIMIT), GEN_LIMIT)]\n",
        "\n",
        "    # Структура db_opt должна быть оптимизированным хранилищем\n",
        "    # Удалите комментарий и допишите код\n",
        "\n",
        "    print(\"Загружено записей: {:,}.\\n\\nПримеры:\".format(GEN_LIMIT))\n",
        "    print(\"Первый элемент:\", db[0])\n",
        "    print(\"Последний элемент:\", db[-1])\n",
        "    print(\"\\n\")\n",
        "\n",
        "    passport_id = input(\"Введите номер паспорта (7 цифр): \").strip()\n",
        "\n",
        "    output = \"\"\"\n",
        "                  1 способ   2 способ\n",
        "    Допущен     {:>10s} {:>10s}\n",
        "    Время (мс.) {:>10.2f} {:>10.2f}\\\n",
        "    \"\"\"\n",
        "\n",
        "    res1 = timeit(is_ok_to_pass_1, db, passport_id)\n",
        "    res2 = timeit(is_ok_to_pass_2, db_opt, passport_id)\n",
        "\n",
        "    print(output.format(ok_str(res1[1]),\n",
        "                        ok_str(res2[1]),\n",
        "                        res1[0],\n",
        "                        res2[0]))\n",
        "\n",
        "# -------------\n",
        "# Пример вывода:\n",
        "#\n",
        "# Загрузка базы данных...\n",
        "# Загружено записей: 1,000,000.\n",
        "#\n",
        "# Примеры:\n",
        "# Первый элемент: {'ok': True, 'id': '4998753'}\n",
        "# Последний элемент: {'ok': True, 'id': '6280964'}\n",
        "#\n",
        "#\n",
        "# Введите номер паспорта (7 цифр): 6280964\n",
        "#\n",
        "#               1 способ   2 способ\n",
        "# Допущен             Да         Да\n",
        "# Время (мс.)     145.10       0.00\n",
        "\n"
      ],
      "metadata": {
        "id": "tLpOqjxRTn68"
      },
      "execution_count": null,
      "outputs": []
    },
    {
      "cell_type": "markdown",
      "source": [
        "### 6.2.10.\n",
        "#### Дана информация о клиентах банка (идентификационный номер и сумма активов). Реализуйте поиск топ-3 клиентов по размеру активов."
      ],
      "metadata": {
        "id": "83lYOV37S0rm"
      }
    },
    {
      "cell_type": "code",
      "source": [
        "import random\n",
        "import time\n",
        "import operator\n",
        "from heapq import nlargest\n",
        "\n",
        "def timeit(func, *args, **kw):\n",
        "    \"\"\"Выполнить функицю 'func' с параметрами '*args', '**kw' и\n",
        "    вернуть время выполнения в мс.\"\"\"\n",
        "\n",
        "    time_start = time.time()\n",
        "    res = func(*args, **kw)\n",
        "    time_end = time.time()\n",
        "\n",
        "    return (time_end - time_start) * 1000.0, res\n",
        "\n",
        "updated = (next(iter(t.items()))for t in db)\n",
        "\n",
        "def top3_1(db):\n",
        "    \"\"\"Вернуть список из ТОП-3 клиентов по сумме активов.\n",
        "\n",
        "    Алгоритм:\n",
        "        Сортировка (встроенный метод sort()) и возврат 3-х элементов.\n",
        "\n",
        "    Сложность: O(N).\n",
        "\n",
        "    Параметры:\n",
        "        - db (list of dict): список клиентов.\n",
        "\n",
        "    Результат:\n",
        "        tuple of dict: 3 клиента с максимальной суммой активов.\"\"\"\n",
        "    top_3_1 = sorted(updated, key = operator.itemgetter(1), reverse = True)[:3]   # O(N)\n",
        "    r_1 = dict(top_3_1)                                                           # O(1)\n",
        "    return r_1                                                                    # O(1)\n",
        "# общая сложность top3_1: O(N) + 2*O(1) = O(N)\n",
        "\n",
        "def top3_2(db):\n",
        "    \"\"\"Вернуть список из ТОП-3 клиентов по сумме активов.\n",
        "\n",
        "    Алгоритм:\n",
        "        Прямой перебор (1 проход в цикле).\n",
        "\n",
        "    Сложность: O(1).\n",
        "\n",
        "    Параметры:\n",
        "        - db (list of dict): список клиентов.\n",
        "\n",
        "    Результат:\n",
        "        tuple of dict: 3 клиента с максимальной суммой активов.\"\"\"\n",
        "    top_3_2 = nlargest(3, updated, key = operator.itemgetter(1))                  # O(1)\n",
        "    r_2 = dict(top_3_2)                                                           # O(1)\n",
        "    return r_2                                                                    # O(1)\n",
        "# общая сложность top3_2: 3*O(1) = O(1)\n",
        "\n",
        "if __name__ == \"__main__\":\n",
        "    print(\"Загрузка базы данных... \")\n",
        "\n",
        "    GEN_LIMIT = 10000000\n",
        "    # Список клиентов\n",
        "    db = []\n",
        "    for client_id, assets in enumerate(\n",
        "      random.sample(range(0, 10 * GEN_LIMIT), GEN_LIMIT),\n",
        "      start=1):\n",
        "        db.append(dict(client_id=client_id, assets=assets))\n",
        "\n",
        "    print(\"Загружено записей: {:,}.\\n\\nПримеры:\".format(GEN_LIMIT))\n",
        "    print(\"Первый элемент:\", db[0])\n",
        "    print(\"Последний элемент:\", db[-1])\n",
        "    print(\"\\n\")\n",
        "\n",
        "    res1 = timeit(top3_1, db)\n",
        "    res2 = timeit(top3_2, db)\n",
        "\n",
        "    for i, (func_time, res) in enumerate((res1, res2), start=1):\n",
        "        print(\"Способ №{}\".format(i))\n",
        "        print(\"Время: {:.2f} мс.\".format(func_time))\n",
        "        for j, client in enumerate(res, start=1):\n",
        "            print(\"{}-е место: ID={client_id} Активы={assets:,} руб.\".\n",
        "                  format(j, **client))\n",
        "        print()\n",
        "\n",
        "\n",
        "# -------------\n",
        "# Пример вывода:\n",
        "#\n",
        "# Загрузка базы данных...\n",
        "# Загружено записей: 10,000,000.\n",
        "#\n",
        "# Примеры:\n",
        "# Первый элемент: {'client_id': 1, 'assets': 79149360}\n",
        "# Последний элемент: {'client_id': 10000000, 'assets': 92745004}\n",
        "#\n",
        "#\n",
        "# Способ №1\n",
        "# Время: 16779.14 мс.\n",
        "# 1-е место: ID=1346588 Активы=99,999,995 руб.\n",
        "# 2-е место: ID=9924557 Активы=99,999,979 руб.\n",
        "# 3-е место: ID=2904705 Активы=99,999,967 руб.\n",
        "#\n",
        "# Способ №2\n",
        "# Время: 4364.90 мс.\n",
        "# 1-е место: ID=1346588 Активы=99,999,995 руб.\n",
        "# 2-е место: ID=9924557 Активы=99,999,979 руб.\n",
        "# 3-е место: ID=2904705 Активы=99,999,967 руб."
      ],
      "metadata": {
        "id": "7uZ6KbSOQUIU"
      },
      "execution_count": null,
      "outputs": []
    }
  ]
}