{
  "nbformat": 4,
  "nbformat_minor": 0,
  "metadata": {
    "colab": {
      "provenance": [],
      "collapsed_sections": [],
      "authorship_tag": "ABX9TyPwXj8p+VdQN4iKa0Ig42ho",
      "include_colab_link": true
    },
    "kernelspec": {
      "name": "python3",
      "display_name": "Python 3"
    },
    "language_info": {
      "name": "python"
    }
  },
  "cells": [
    {
      "cell_type": "markdown",
      "metadata": {
        "id": "view-in-github",
        "colab_type": "text"
      },
      "source": [
        "<a href=\"https://colab.research.google.com/github/TyapkinaPA/Lab_TyapkinaPA/blob/main/Lab_4.ipynb\" target=\"_parent\"><img src=\"https://colab.research.google.com/assets/colab-badge.svg\" alt=\"Open In Colab\"/></a>"
      ]
    },
    {
      "cell_type": "markdown",
      "source": [
        "# ***Основы программирования***\n",
        "# Лабораторная работа №4\n",
        "## Выполнил: Тяпкина Полина Андреевна\n",
        "### Группа: АДЭУ-221\n",
        "### Почта: p.malinka25@gmail.com"
      ],
      "metadata": {
        "id": "nofyEJxh9MYs"
      }
    },
    {
      "cell_type": "markdown",
      "source": [
        "##4.2.1. Условный оператор.\n",
        "\n",
        "4.2.1. - 4.2.6.\n",
        "\n",
        "\n"
      ],
      "metadata": {
        "id": "0LrirvtV8G_r"
      }
    },
    {
      "cell_type": "code",
      "execution_count": null,
      "metadata": {
        "id": "-H3mL8x-7IFv",
        "colab": {
          "base_uri": "https://localhost:8080/"
        },
        "outputId": "9fcc8a51-7740-4ddb-97f7-186a5339d9f7"
      },
      "outputs": [
        {
          "output_type": "stream",
          "name": "stdout",
          "text": [
            "x=123\n",
            "f = 15140.09\n"
          ]
        }
      ],
      "source": [
        "# Задание task_04_02_01.\n",
        "#\n",
        "# Выполнил: Тяпкина П.А.\n",
        "# Группа: АДЭУ-221\n",
        "# E-mail: p.malinka25@gmail.com\n",
        "\n",
        "\n",
        "x = int(input(\"x=\"))\n",
        "\n",
        "if x >= 0:\n",
        "    f = x ** (1 / 2) + x ** 2\n",
        "else:\n",
        "    f = 1 / x\n",
        "\n",
        "\n",
        "print(\"f =\", round(f,2))\n",
        "# --------------\n",
        "# Пример вывода:\n",
        "#\n",
        "# Введите число x: -10\n",
        "# f = -0.10\n",
        "\n",
        "# Введите число x: 0\n",
        "# f = 0.00\n",
        "\n",
        "# Введите число x: 10\n",
        "# f = 103.16\n",
        "\n",
        "\n",
        "\n"
      ]
    },
    {
      "cell_type": "code",
      "source": [
        "# Задание task_04_02_02.\n",
        "#\n",
        "# Выполнил: Тяпкина П.А.\n",
        "# Группа: АДЭУ-221\n",
        "# E-mail: p.malinka25@gmail.com\n",
        "\n",
        "\n",
        "a1 = int(input(\"a1=\"))\n",
        "a2 = int(input(\"a2=\"))\n",
        "\n",
        "# Переменная 'a_min' должна содержать минимум, 'a_max' - максимум\n",
        "min((a1,a2))\n",
        "max((a1,a2))\n",
        "\n",
        "print(\"Минимум:\", min(a1,a2))\n",
        "print(\"Максимум:\", max(a1,a2))\n",
        "# --------------\n",
        "# Пример вывода:\n",
        "#\n",
        "# Введите первое число: 1\n",
        "# Введите второе число: 2\n",
        "# Максимум: 2, минимум: 1\n",
        "\n",
        "# Введите первое число: 5\n",
        "# Введите второе число: 5\n",
        "# Максимум: 5, минимум: 5\n",
        "\n",
        "# Введите первое число: 100\n",
        "# Введите второе число: -1\n",
        "# Максимум: 100, минимум: -1\n",
        "\n",
        "\n"
      ],
      "metadata": {
        "id": "TfyUqqRfEi53",
        "colab": {
          "base_uri": "https://localhost:8080/"
        },
        "outputId": "daec6b22-6315-4326-c215-c5ab931ff5ce"
      },
      "execution_count": null,
      "outputs": [
        {
          "output_type": "stream",
          "name": "stdout",
          "text": [
            "a1=432\n",
            "a2=123\n",
            "Минимум: 123\n",
            "Максимум: 432\n"
          ]
        }
      ]
    },
    {
      "cell_type": "code",
      "source": [
        "# Задание task_04_02_03.\n",
        "#\n",
        "# Выполнил: Тяпкина П.А.\n",
        "# Группа: АДЭУ-221\n",
        "# E-mail: p.malinka25@gmail.com\n",
        "\n",
        "\n",
        "a = int(input(\"a=\"))\n",
        "b = int(input(\"b=\"))\n",
        "d = int(input(\"d=\"))\n",
        "\n",
        "# Введенные числа должны быть положительными, если так - осуществляем\n",
        "# расчет, иначе выводим \"Проверьте ввод\"\n",
        "if  (d + 1) < a and (d + 1) < b:\n",
        "    fix = 1  # Зазор\n",
        "    \n",
        "    # Вывести \"Да\" или \"Нет\"\n",
        "    print(\"ДА\")\n",
        "else:\n",
        "    print(\"НЕТ\")\n",
        "\n",
        "# --------------\n",
        "# Пример вывода:\n",
        "#\n",
        "# Ширина форточки: 5\n",
        "# Высота форточки: 6\n",
        "# Диаметр головы: 6\n",
        "# Нет\n",
        "\n",
        "# Ширина форточки: 6\n",
        "# Высота форточки: 7\n",
        "# Диаметр головы: 4\n",
        "# Да\n"
      ],
      "metadata": {
        "id": "a9TwQ2ClEw-p",
        "colab": {
          "base_uri": "https://localhost:8080/"
        },
        "outputId": "1d5b8789-0f7b-402b-d1b4-eb1244264451"
      },
      "execution_count": null,
      "outputs": [
        {
          "output_type": "stream",
          "name": "stdout",
          "text": [
            "a=8\n",
            "b=7\n",
            "d=5\n",
            "ДА\n"
          ]
        }
      ]
    },
    {
      "cell_type": "code",
      "source": [
        "# Задание task_04_02_04.\n",
        "#\n",
        "# Выполнил: Тяпкина П.А.\n",
        "# Группа: АДЭУ-221\n",
        "# E-mail: p.malinka25@gmail.com\n",
        "\n",
        "\n",
        "year_today = int(input(\"Год на сегодняшний день=\"))\n",
        "month_today = int(input(\"Месяц на сегодняшний день=\"))\n",
        "\n",
        "year = int(input(\"Год рождения=\"))\n",
        "month = int(input(\"Месяц рождения=\"))\n",
        "\n",
        "# Считается, введенные значения находятся в допустимых пределах,и\n",
        "# что 'month_today' >= 'month' (проверять значения не нужно)\n",
        "# Результат необходимо записать в переменную 'age'\n",
        "\n",
        "month_today >= month\n",
        "\n",
        "age = (((year_today - year) * 12 + month_today - month) // 12)\n",
        "\n",
        "print(\"Число полных лет: \", age)\n",
        "\n",
        "# --------------\n",
        "# Пример вывода:\n",
        "#\n",
        "# Введите текущий год: 2017\n",
        "# Введите текущий месяц: 5\n",
        "# Введите год рождения: 2000\n",
        "# Введите месяц рождения: 1\n",
        "# Число полных лет:  17\n",
        "#\n",
        "# Введите текущий год: 2015\n",
        "# Введите текущий месяц: 6\n",
        "# Введите год рождения: 2010\n",
        "# Введите месяц рождения: 8\n",
        "# Число полных лет:  4\n",
        "#\n",
        "# Введите текущий год: 2020\n",
        "# Введите текущий месяц: 5\n",
        "# Введите год рождения: 2000\n",
        "# Введите месяц рождения: 5\n",
        "# Число полных лет:  20\n"
      ],
      "metadata": {
        "id": "1TReEGnWFH6O",
        "colab": {
          "base_uri": "https://localhost:8080/"
        },
        "outputId": "a7d3d58d-b935-4fa9-e331-6c3ec3012c96"
      },
      "execution_count": null,
      "outputs": [
        {
          "output_type": "stream",
          "name": "stdout",
          "text": [
            "Год на сегодняшний день=2025\n",
            "Месяц на сегодняшний день=10\n",
            "Год рождения=2004\n",
            "Месяц рождения=3\n",
            "Число полных лет:  21\n"
          ]
        }
      ]
    },
    {
      "cell_type": "code",
      "source": [
        "# Задание task_04_02_05.\n",
        "#\n",
        "# Выполнил: Тяпкина П.А.\n",
        "# Группа: АДЭУ-221\n",
        "# E-mail: p.malinka25@gmail.com\n",
        "\n",
        "\n",
        "x = int(input(\"x=\"))\n",
        "y = int(input(\"y=\"))\n",
        "\n",
        "if x > 0 and y > 0:\n",
        "    print(\"1-я четверть\")\n",
        "elif x < 0 and y > 0:\n",
        "    print(\"2-я четверть\")\n",
        "elif x < 0 and y < 0:\n",
        "    print(\"3-я четверть\")\n",
        "else:\n",
        "    print(\"4-я четверть\")\n",
        "\n",
        "# --------------\n",
        "# Пример вывода:\n",
        "#\n",
        "# Введите координату x: 5\n",
        "# Введите координату y: 7\n",
        "# 1-я четверть\n"
      ],
      "metadata": {
        "id": "Xmz7Cw9uFLPh",
        "colab": {
          "base_uri": "https://localhost:8080/"
        },
        "outputId": "e8988264-6a5d-489d-94ea-8577f33e8b73"
      },
      "execution_count": null,
      "outputs": [
        {
          "output_type": "stream",
          "name": "stdout",
          "text": [
            "x=3\n",
            "y=-90\n",
            "4-я четверть\n"
          ]
        }
      ]
    },
    {
      "cell_type": "code",
      "source": [
        "# Задание task_04_02_06.\n",
        "#\n",
        "# Выполнил: Тяпкина П.А.\n",
        "# Группа: АДЭУ-221\n",
        "# E-mail: p.malinka25@gmail.com\n",
        "\n",
        "\n",
        "a = float(input(\"a=\"))\n",
        "b = float(input(\"b=\"))\n",
        "c = float(input(\"c=\"))\n",
        "a != 0\n",
        "# Расчет дискриминанта\n",
        "# a * x ** 2 + b * x + c = 0\n",
        "D = (b ** 2 - 4 * a * c) ** (1 / 2)\n",
        "if D > 0:\n",
        "    x1 = (- b + D) / (2 * a)\n",
        "    x2 = (- b - D) / (2 * a) \n",
        "    print(\"x1=\",round(x1,1))\n",
        "    print(\"x2=\",round(x2,1))\n",
        "elif D == 0:\n",
        "    x = (- b) / (2 * a)\n",
        "    print(\"x=\",round(x,1))\n",
        "else:\n",
        "    print(\"Нет решения\")\n",
        "# Вывод решения в зависимости от значения дискриминанта\n",
        "# При выводе значений оставьте 1 знак после запятой\n",
        "\n",
        "# --------------\n",
        "# Пример вывода:\n",
        "#\n",
        "# a = 1\n",
        "# b = 2\n",
        "# c = 3\n",
        "# Решений нет\n",
        "#\n",
        "# a = 1\n",
        "# b = 2\n",
        "# c = 1\n",
        "# x = -1.0\n",
        "#\n",
        "# a = 1\n",
        "# b = 3\n",
        "# c = -4\n",
        "# x1 = -4.0, x2 = 1.0"
      ],
      "metadata": {
        "id": "qNPqRFr7Fcbj",
        "colab": {
          "base_uri": "https://localhost:8080/"
        },
        "outputId": "5ec0570b-9285-41a0-932b-83077a66749c"
      },
      "execution_count": null,
      "outputs": [
        {
          "output_type": "stream",
          "name": "stdout",
          "text": [
            "a=2\n",
            "b=4\n",
            "c=-5\n",
            "x1= 0.9\n",
            "x2= -2.9\n"
          ]
        }
      ]
    },
    {
      "cell_type": "markdown",
      "source": [
        "##4.2.2. Цикл с условием\n",
        "\n",
        "4.2.7. - 4.2.11."
      ],
      "metadata": {
        "id": "U5EHT3Y9835Z"
      }
    },
    {
      "cell_type": "code",
      "source": [
        "# Задание task_04_02_07.\n",
        "#\n",
        "# Выполнил: Тяпкина П.А.\n",
        "# Группа: АДЭУ-221\n",
        "# E-mail: p.malinka25@gmail.com\n",
        "\n",
        "\n",
        "nums_sum = 0  # сумма\n",
        "nums_count = 0  # количество\n",
        "\n",
        "x = int(input(\"Введено число: \"))\n",
        "a = []\n",
        "while x != 0:\n",
        "    nums_count = nums_count + 1\n",
        "    a.append(x)\n",
        "    nums_sum = nums_sum + x\n",
        "    x = int(input(\"Введено следующее число: \"))\n",
        "\n",
        "print(\"Сумма: \",nums_sum)\n",
        "print(\"Количество: \", nums_count)\n",
        "\n",
        "# --------------\n",
        "# Пример вывода:\n",
        "#\n",
        "# Введите 1-е число: 1\n",
        "# Введите 2-е число: 2\n",
        "# Введите 3-е число: 3\n",
        "# Введите 4-е число: 4\n",
        "# Введите 5-е число: 0\n",
        "# Сумма = 10\n",
        "# Количество = 4\n",
        "#\n",
        "# Введите 1-е число: 0\n",
        "# Сумма = 0\n",
        "# Количество = 0"
      ],
      "metadata": {
        "id": "43dm6iaWFfyz",
        "colab": {
          "base_uri": "https://localhost:8080/"
        },
        "outputId": "809840ba-ec60-4854-f9af-0ddd87caf102"
      },
      "execution_count": null,
      "outputs": [
        {
          "output_type": "stream",
          "name": "stdout",
          "text": [
            "Введено число: 1\n",
            "Введено следующее число: 2\n",
            "Введено следующее число: 3\n",
            "Введено следующее число: 4\n",
            "Введено следующее число: 5\n",
            "Введено следующее число: 6\n",
            "Введено следующее число: 7\n",
            "Введено следующее число: 0\n",
            "Сумма:  28\n",
            "Количество:  7\n"
          ]
        }
      ]
    },
    {
      "cell_type": "code",
      "source": [
        "# Задание task_04_02_08.\n",
        "#\n",
        "# Выполнил: Тяпкина П.А.\n",
        "# Группа: АДЭУ-221\n",
        "# E-mail: p.malinka25@gmail.com\n",
        "\n",
        "\n",
        "n = int(input(\"n=\"))\n",
        "\n",
        "t = 0\n",
        "a = list()\n",
        "a.append(t)\n",
        "\n",
        "while t <= n:\n",
        "    t = t + 5\n",
        "    a.append(t)\n",
        "\n",
        "a.pop()\n",
        "print(a)\n",
        "\n",
        "# --------------\n",
        "# Пример вывода:\n",
        "#\n",
        "# n = 0\n",
        "# 0\n",
        "#\n",
        "# n = 10\n",
        "# 0\n",
        "# 5\n",
        "# 10\n",
        "#\n",
        "# n = 12\n",
        "# 0\n",
        "# 5\n",
        "# 10\n"
      ],
      "metadata": {
        "colab": {
          "base_uri": "https://localhost:8080/"
        },
        "id": "uttfmxFAqlHP",
        "outputId": "918a699e-378c-4157-9c77-c7d08ec96e83"
      },
      "execution_count": null,
      "outputs": [
        {
          "output_type": "stream",
          "name": "stdout",
          "text": [
            "n=113\n",
            "[0, 5, 10, 15, 20, 25, 30, 35, 40, 45, 50, 55, 60, 65, 70, 75, 80, 85, 90, 95, 100, 105, 110]\n"
          ]
        }
      ]
    },
    {
      "cell_type": "code",
      "source": [
        "# Задание task_04_02_09.\n",
        "#\n",
        "# Выполнил: Тяпкина П.А.\n",
        "# Группа: АДЭУ-221\n",
        "# E-mail: p.malinka25@gmail.com\n",
        "\n",
        "a = int(input(\"a = \"))\n",
        "\n",
        "n = 1\n",
        "x_sum = list()\n",
        "x_sum.append(n)\n",
        "\n",
        "while sum(x_sum) <= a:\n",
        "    n = n + 1\n",
        "    t = 1 / n\n",
        "    x_sum.append(t)\n",
        "\n",
        "print(\"n =\",n)\n",
        "\n",
        "# Удалите комментарий и допишите код\n",
        "\n",
        "# --------------\n",
        "# Пример вывода:\n",
        "#\n",
        "# a = 1.5\n",
        "# n = 3\n",
        "#\n",
        "# a = 2\n",
        "# n = 4\n"
      ],
      "metadata": {
        "colab": {
          "base_uri": "https://localhost:8080/"
        },
        "id": "uQticXGBvOgT",
        "outputId": "4a2d8cf8-edb6-492f-bf3f-ce8c635e867a"
      },
      "execution_count": null,
      "outputs": [
        {
          "output_type": "stream",
          "name": "stdout",
          "text": [
            "a = 3\n",
            "n = 11\n"
          ]
        }
      ]
    },
    {
      "cell_type": "code",
      "source": [
        "# Задание task_04_02_10.\n",
        "#\n",
        "# Выполнил: Тяпкина П.А.\n",
        "# Группа: АДЭУ-221\n",
        "# E-mail: p.malinka25@gmail.com\n",
        "\n",
        "\n",
        "n = list(map(int, input(\"n = \")))\n",
        "\n",
        "n_sum = sum(n)\n",
        "n_count = len(n)\n",
        "\n",
        "print('Сумма цифр: ', n_sum)\n",
        "print('Количество цифр: ', n_count)\n",
        "\n",
        "# Удалите комментарий и допишите код\n",
        "\n",
        "# --------------\n",
        "# Пример вывода:\n",
        "#\n",
        "# n = 12345\n",
        "# Сумма = 15\n",
        "# Количество = 5\n",
        "\n"
      ],
      "metadata": {
        "colab": {
          "base_uri": "https://localhost:8080/"
        },
        "id": "SSOdn2790P4U",
        "outputId": "575aa311-7d10-452a-941f-f24049d5173b"
      },
      "execution_count": null,
      "outputs": [
        {
          "output_type": "stream",
          "name": "stdout",
          "text": [
            "n = 23456\n",
            "Сумма цифр:  20\n",
            "Количество цифр:  5\n"
          ]
        }
      ]
    },
    {
      "cell_type": "code",
      "source": [
        "# Задание task_04_02_11.\n",
        "#\n",
        "# Выполнил: Фамилия И.О.\n",
        "# Группа: !!!\n",
        "# E-mail: !!!\n",
        "\n",
        "\n",
        "start = int(input(\"Начальное число: \"))\n",
        "k = int(input(\"Последняя цифра числа: \")) #полседняя цифра каждого числа\n",
        "s = int(input(\"Число будет кратно: \")) #значение, которому будт кратны все числа\n",
        "n_count = list()\n",
        "\n",
        "while start % s != 0:\n",
        "    start += 1\n",
        "else:\n",
        "    for t in range(999):\n",
        "        start += 1\n",
        "        while start % s != 0:\n",
        "            start += 1\n",
        "        else:\n",
        "            if start % 10 == k:\n",
        "                n_count.append(start)\n",
        "\n",
        "print(n_count[:10])\n",
        "\n",
        "# Удалите комментарий и допишите код\n",
        "\n",
        "# --------------\n",
        "# Пример вывода:\n",
        "#\n",
        "# start = 100\n",
        "# k = 7\n",
        "# s = 9\n",
        "# 117 207 297 387 477 567 657 747 837 927\n",
        "\n",
        "\n",
        "\n"
      ],
      "metadata": {
        "colab": {
          "base_uri": "https://localhost:8080/"
        },
        "id": "_Rl9OWe7-ptT",
        "outputId": "69169cf3-2a9b-4231-ce06-73b7add09d30"
      },
      "execution_count": null,
      "outputs": [
        {
          "output_type": "stream",
          "name": "stdout",
          "text": [
            "Начальное число: 200\n",
            "Последняя цифра числа: 5\n",
            "Число будет кратно: 15\n",
            "[225, 255, 285, 315, 345, 375, 405, 435, 465, 495]\n"
          ]
        }
      ]
    },
    {
      "cell_type": "markdown",
      "source": [
        "##4.2.3. Совместный цикл (цикл по коллекциям)\n",
        "\n",
        "4.2.12 - 4.2.16.\n"
      ],
      "metadata": {
        "id": "soOFeA64-59M"
      }
    },
    {
      "cell_type": "code",
      "source": [
        "# Задание task_04_02_12.\n",
        "#\n",
        "# Выполнил: Тяпкина П.А.\n",
        "# Группа: АДЭУ-221\n",
        "# E-mail: p.malinka25@gmail.com\n",
        "\n",
        "\n",
        "a = int(input(\"a = \"))\n",
        "b = int(input(\"b = \"))\n",
        "\n",
        "t = list(range(a,b + 1,1))\n",
        "print(t)\n",
        "\n",
        "t.reverse()\n",
        "print(\"\\n\".join(map(str, t)))\n",
        "\n",
        "# --------------\n",
        "# Пример вывода:\n",
        "#\n",
        "# a = 1\n",
        "# b = 5\n",
        "# 1 2 3 4 5\n",
        "# 5\n",
        "# 4\n",
        "# 3\n",
        "# 2\n",
        "# 1\n"
      ],
      "metadata": {
        "colab": {
          "base_uri": "https://localhost:8080/"
        },
        "id": "3nEi9xBP_TzD",
        "outputId": "93a3a476-4549-4f98-9bcf-137b96761ae6"
      },
      "execution_count": null,
      "outputs": [
        {
          "output_type": "stream",
          "name": "stdout",
          "text": [
            "a = 10\n",
            "b = 15\n",
            "[10, 11, 12, 13, 14, 15]\n",
            "15\n",
            "14\n",
            "13\n",
            "12\n",
            "11\n",
            "10\n"
          ]
        }
      ]
    },
    {
      "cell_type": "code",
      "source": [
        "# Задание task_04_02_13.\n",
        "#\n",
        "# Выполнил: Тяпкина П.А.\n",
        "# Группа: АДЭУ-221\n",
        "# E-mail: p.malinka25@gmail.com\n",
        "\n",
        "\n",
        "a = int(input(\"a = \"))\n",
        "b = int(input(\"b = \"))\n",
        "\n",
        "t = list(range(a,b+1,1))\n",
        "n_sum = sum(t)\n",
        "print(\"Сумма =\", n_sum)\n",
        "\n",
        "n_mult = 1\n",
        "a = 1\n",
        "while a < len(t):\n",
        "    n_mult = n_mult * t[a]\n",
        "    a += 1\n",
        "print(\"Произведение =\", n_mult)\n",
        "\n",
        "n_count = len(t)\n",
        "n_avg = n_sum/n_count\n",
        "print(\"Среднее арифметическое = \",n_avg)\n",
        "\n",
        "\n",
        "#print(\"Среднее геометрическое нечетных чисел = \",n_avg_geom)\n",
        "\n",
        "# --------------\n",
        "# Пример вывода:\n",
        "#\n",
        "# a = 1\n",
        "# b = 5\n",
        "# Сумма = 15\n",
        "# Произведение = 120\n",
        "# Среднее арифметическое = 3.00\n",
        "# Среднее геометрическое нечетных чисел = 2.47\n",
        "\n",
        "\n"
      ],
      "metadata": {
        "colab": {
          "base_uri": "https://localhost:8080/"
        },
        "id": "QJ_99pTp7Whn",
        "outputId": "37a8ecb9-2869-43e8-8b8d-0c34ce1dd4ad"
      },
      "execution_count": null,
      "outputs": [
        {
          "output_type": "stream",
          "name": "stdout",
          "text": [
            "a = 1\n",
            "b = 5\n",
            "Сумма = 15\n",
            "Произведение = 120\n",
            "Среднее арифметическое =  3.0\n"
          ]
        }
      ]
    },
    {
      "cell_type": "code",
      "source": [
        "# Задание task_04_02_14.\n",
        "#\n",
        "# Выполнил: Тяпкина П.А.\n",
        "# Группа: АДЭУ-221\n",
        "# E-mail: p.malinka25@gmail.com\n",
        "\n",
        "\n",
        "s = float(input(\"Первый день (км): \"))\n",
        "p = float(input(\"Увеличение нагрузки (%): \"))\n",
        "\n",
        "total = s\n",
        "t = list()\n",
        "t.append(s)\n",
        "k = 1  # день\n",
        "for x in range(9):\n",
        "    s = ((s * (p / 100)) + s) + 0.0001\n",
        "    k += 1\n",
        "    t.append(s)\n",
        "    print('Шёл',k,'день пробега: ', round(s,1))\n",
        "\n",
        "total = sum(t)\n",
        "print(\"И в итоге: \", round(total,1),', а он неплох ХD')\n",
        "\n",
        "# --------------\n",
        "# Пример вывода:\n",
        "#\n",
        "# Пробег за 1-й день (км.) = 5\n",
        "# На сколько увеличивает пробег (%) = 10\n",
        "# Пробег за 2-й день: 5.5 км.\n",
        "# Пробег за 3-й день: 6.1 км.\n",
        "# Пробег за 4-й день: 6.7 км.\n",
        "# Пробег за 5-й день: 7.3 км.\n",
        "# Пробег за 6-й день: 8.1 км.\n",
        "# Пробег за 7-й день: 8.9 км.\n",
        "# Пробег за 8-й день: 9.7 км.\n",
        "# Пробег за 9-й день: 10.7 км.\n",
        "# Пробег за 10-й день: 11.8 км.\n",
        "# Суммарный пробег: 79.7 км.\n"
      ],
      "metadata": {
        "id": "pAKpnX5n7ncs",
        "colab": {
          "base_uri": "https://localhost:8080/"
        },
        "outputId": "9bc767dd-308d-4919-aca9-be05fd9ca4f5"
      },
      "execution_count": null,
      "outputs": [
        {
          "output_type": "stream",
          "name": "stdout",
          "text": [
            "Первый день (км): 5\n",
            "Увеличение нагрузки (%): 10\n",
            "Шёл 2 день пробега:  5.5\n",
            "Шёл 3 день пробега:  6.1\n",
            "Шёл 4 день пробега:  6.7\n",
            "Шёл 5 день пробега:  7.3\n",
            "Шёл 6 день пробега:  8.1\n",
            "Шёл 7 день пробега:  8.9\n",
            "Шёл 8 день пробега:  9.7\n",
            "Шёл 9 день пробега:  10.7\n",
            "Шёл 10 день пробега:  11.8\n",
            "И в итоге:  79.7 , а он неплох ХD\n"
          ]
        }
      ]
    },
    {
      "cell_type": "code",
      "source": [
        "# Задание task_04_02_15.\n",
        "#\n",
        "# Выполнил: Тяпкина П.А.\n",
        "# Группа: АДЭУ-221\n",
        "# E-mail: p.malinka25@gmail.com\n",
        "\n",
        "\n",
        "p = int(input(\"Грузоподъёмность грузовика (кг): \"))\n",
        "n = int(input(\"Количество предметов (шт): \"))\n",
        "\n",
        "total = 0\n",
        "t = list()\n",
        "for x in range(n):\n",
        "    \n",
        "    k = int(input(\"Масса предмета: \"))\n",
        "    t.append(k)\n",
        "if sum(t) <= p:\n",
        "    print(\"Перевозка груза ВОЗМОЖНА! ;)\")\n",
        "else:\n",
        "    print(\"Перевозка груза НЕВОЗМОЖНА! :(\")\n",
        "\n",
        "# --------------\n",
        "# Пример вывода:\n",
        "#\n",
        "# Грузоподъемность грузовика (кг.) = 10\n",
        "# Количество предметов = 2\n",
        "# Масса 1-го предмета (кг.) = 3\n",
        "# Масса 2-го предмета (кг.) = 3\n",
        "# Да\n"
      ],
      "metadata": {
        "id": "PwJCc6rXbIoU",
        "colab": {
          "base_uri": "https://localhost:8080/"
        },
        "outputId": "e93617a4-6161-4210-da13-5a6048961f79"
      },
      "execution_count": null,
      "outputs": [
        {
          "output_type": "stream",
          "name": "stdout",
          "text": [
            "Грузоподъёмность грузовика (кг): 100\n",
            "Количество предметов (шт): 2\n",
            "Масса предмета: 40\n",
            "Масса предмета: 40\n",
            "Перевозка груза ВОЗМОЖНА! ;)\n"
          ]
        }
      ]
    },
    {
      "cell_type": "code",
      "source": [
        "# Задание task_04_02_16.\n",
        "#\n",
        "# Выполнил: Тяпкина П.А.\n",
        "# Группа: АДЭУ-221\n",
        "# E-mail: p.malinka25@gmail.com\n",
        "\n",
        "\n",
        "n = int(input(\"Количество районов: \"))\n",
        "\n",
        "total = 0\n",
        "t = list()\n",
        "\n",
        "for x in range(n):\n",
        "    s = int(input('Площадь района (га): '))\n",
        "    t = int(input('Урожайность района (ц\\га): '))\n",
        "    k = t * s\n",
        "    t.append(k)\n",
        "    print(\"Собрано пшеницы: \", t.append(k))\n",
        "\n",
        "print(round(sum(t), 1))\n",
        "# --------------\n",
        "# Пример вывода:\n",
        "#\n",
        "# Количество районов = 3\n",
        "# Площадь 1-го района (га) = 4\n",
        "# Урожайность в 1-м районе (ц/га.) = 2\n",
        "# Площадь 2-го района (га) = 7\n",
        "# Урожайность в 2-м районе (ц/га.) = 3\n",
        "# Площадь 3-го района (га) = 9\n",
        "# Урожайность в 3-м районе (ц/га.) = 4\n",
        "# Собрано пшеницы: 65.0 ц."
      ],
      "metadata": {
        "id": "ksZD_0zC2Nc2"
      },
      "execution_count": null,
      "outputs": []
    },
    {
      "cell_type": "markdown",
      "source": [
        "##4.2.4. Прерывания и продолжения циклов\n",
        "4.2.17. - 4.2.18."
      ],
      "metadata": {
        "id": "COHMDrgyU1S4"
      }
    },
    {
      "cell_type": "code",
      "source": [
        "# Задание task_04_02_17.\n",
        "#\n",
        "# Выполнил: Тяпкина П.А.\n",
        "# Группа: АДЭУ-221\n",
        "# E-mail: p.malinka25@gmail.com\n",
        "\n",
        "\n",
        "nums_sum = 0  # сумма\n",
        "nums_count = 0  # количество\n",
        "\n",
        "x = int(input(\"Введено число: \"))\n",
        "a = []\n",
        "while x != 0:\n",
        "    nums_count = nums_count + 1\n",
        "    a.append(x)\n",
        "    nums_sum = nums_sum + x\n",
        "    x = int(input(\"Введено следующее число: \"))\n",
        "    if x == 0:\n",
        "        break\n",
        "\n",
        "print(\"Сумма: \",nums_sum)\n",
        "print(\"Количество: \", nums_count)\n",
        "\n",
        "\n",
        "# --------------\n",
        "# Пример вывода:\n",
        "#\n",
        "# Введите 1-е число: 1\n",
        "# Введите 2-е число: 2\n",
        "# Введите 3-е число: 3\n",
        "# Введите 4-е число: 4\n",
        "# Введите 5-е число: 0\n",
        "# Сумма = 10\n",
        "# Количество = 4\n",
        "#\n",
        "# Введите 1-е число: 0\n",
        "# Сумма = 0\n",
        "# Количество = 0\n"
      ],
      "metadata": {
        "id": "oWRXredj2QlE"
      },
      "execution_count": null,
      "outputs": []
    },
    {
      "cell_type": "code",
      "source": [
        "# Задание task_04_02_18.\n",
        "#\n",
        "# Выполнил: Тяпкина П.А.\n",
        "# Группа: АДЭУ-221\n",
        "# E-mail: p.malinka25@gmail.com\n",
        "\n",
        "\n",
        "sentence = input(\"Предложение: \")\n",
        "\n",
        "count_gl = 0  # Кол-во гласных\n",
        "count_sogl = 0  # Кол-во согласных\n",
        "\n",
        "for x in sentence:\n",
        "    gl = x.lower()\n",
        "    if gl == \"а\" or gl == \"е\" or gl == \"ё\" or\\\n",
        "       gl == \"и\" or gl == \"о\" or gl == \"у\" or\\\n",
        "       gl == \"ы\" or gl == \"э\" or gl == \"ю\" or \\\n",
        "       gl == \"я\":\n",
        "        count_gl += 1\n",
        "    else:\n",
        "        count_sogl += 1\n",
        "\n",
        "print(\"Количество букв в предложении: \", \"Гласные - \",count_gl,\", Согласные - \",count_sogl) \n",
        "\n",
        "\n",
        "# --------------\n",
        "# Пример вывода:\n",
        "#\n",
        "# Введите предложение: Программирование\n",
        "# Кол-во букв в предложении: гласных - 7, согласных - 9\n",
        "\n"
      ],
      "metadata": {
        "colab": {
          "base_uri": "https://localhost:8080/"
        },
        "id": "xj3ewO9iVVK9",
        "outputId": "bb802b36-60bd-4600-84ca-4ad40c5fc23b"
      },
      "execution_count": null,
      "outputs": [
        {
          "output_type": "stream",
          "name": "stdout",
          "text": [
            "Предложение: Программирование\n",
            "Количество букв в предложении:  Гласные -  7 , Согласные -  9\n"
          ]
        }
      ]
    },
    {
      "cell_type": "markdown",
      "source": [
        "##4.2.5. Комбинация циклов и условий\n",
        "4.2.19. - 4.2.28."
      ],
      "metadata": {
        "id": "oTTa-ORwgEbL"
      }
    },
    {
      "cell_type": "code",
      "source": [
        "# Задание task_04_02_19.\n",
        "#\n",
        "# Выполнил: Тяпкина П.А.\n",
        "# Группа: АДЭУ-221\n",
        "# E-mail: p.malinka25@gmail.com\n",
        "\n",
        "\n",
        "a = int(input(\"a = \"))\n",
        "b = int(input(\"b = \"))\n",
        "c = int(input(\"c = \"))\n",
        "\n",
        "t = list()\n",
        "\n",
        "for x in range(a,b + 1):\n",
        "    if x % c == 0:\n",
        "        t.append(x)\n",
        "\n",
        "print(t)\n",
        "\n",
        "# --------------\n",
        "# Пример вывода:\n",
        "#\n",
        "# a = 1\n",
        "# b = 10\n",
        "# c = 2\n",
        "# 2 4 6 8 10\n"
      ],
      "metadata": {
        "colab": {
          "base_uri": "https://localhost:8080/"
        },
        "id": "T2oJVUaSgVT8",
        "outputId": "f58e09c1-0b2a-4e30-dc47-39f26ad0953c"
      },
      "execution_count": null,
      "outputs": [
        {
          "output_type": "stream",
          "name": "stdout",
          "text": [
            "a = 1\n",
            "b = 10\n",
            "c = 2\n",
            "[2, 4, 6, 8, 10]\n"
          ]
        }
      ]
    },
    {
      "cell_type": "code",
      "source": [
        "# Задание task_04_02_20.\n",
        "#\n",
        "# Выполнил: Тяпкина П.А.\n",
        "# Группа: АДЭУ-221\n",
        "# E-mail: p.malinka25@gmail\n",
        "\n",
        "\n",
        "n = int(input(\"n = \"))\n",
        "t = list()\n",
        "for x in range (100, 999):\n",
        "    d = sum(int(s) for s in str(x))\n",
        "    if d == n:\n",
        "        t.append(x)\n",
        "\n",
        "print(t)\n",
        "    \n",
        "    \n",
        "\n",
        "# Удалите комментарий и допишите код\n",
        "\n",
        "# --------------\n",
        "# Пример вывода:\n",
        "#\n",
        "# n = 3\n",
        "# 102 111 120 201 210 300\n",
        "\n",
        "\n",
        "\n"
      ],
      "metadata": {
        "colab": {
          "base_uri": "https://localhost:8080/"
        },
        "id": "bWr2bzIOy38T",
        "outputId": "02a6abf8-5508-48a6-a181-7ef337cd0da6"
      },
      "execution_count": null,
      "outputs": [
        {
          "output_type": "stream",
          "name": "stdout",
          "text": [
            "n = 5\n",
            "[104, 113, 122, 131, 140, 203, 212, 221, 230, 302, 311, 320, 401, 410, 500]\n"
          ]
        }
      ]
    },
    {
      "cell_type": "code",
      "source": [
        "# Задание task_04_02_21.\n",
        "#\n",
        "# Выполнил: Тяпкина П.А.\n",
        "# Группа: АДЭУ-221\n",
        "# E-mail: p.malinka25@gmail.com\n",
        "\n",
        "\n",
        "n = int(input(\"n = \"))\n",
        "\n",
        "r_sr_m = 0.0\n",
        "r_sr_d = 0.0\n",
        "\n",
        "r_m = 0\n",
        "r_d = 0\n",
        "\n",
        "l = 0\n",
        "t = 1\n",
        "for x in range(n):\n",
        "    r = int(input(\"Рост ученика: \"))\n",
        "    t += 1\n",
        "    if r < 0:\n",
        "        l += 1\n",
        "        r_m -= r\n",
        "    else:\n",
        "        r_d += r\n",
        "\n",
        "r_sr_m = r_m / l\n",
        "r_sr_d = r_d / (n - l)\n",
        "\n",
        "print(\"Средний рост мальчиков: \", r_sr_m)\n",
        "print(\"Средний рост девочек: \", r_sr_d)\n",
        "\n",
        "\n",
        "# --------------\n",
        "# Пример вывода:\n",
        "#\n",
        "# n = 5\n",
        "# Рост 1-го ученика = 150\n",
        "# Рост 2-го ученика = -150\n",
        "# Рост 3-го ученика = 160\n",
        "# Рост 4-го ученика = 170\n",
        "# Рост 5-го ученика = 180\n",
        "# Средний рост мальчиков: 150.0\n",
        "# Средний рост девочек: 165.0\n",
        "\n",
        "\n",
        "\n",
        "\n",
        "\n",
        "\n"
      ],
      "metadata": {
        "colab": {
          "base_uri": "https://localhost:8080/"
        },
        "id": "o1BnF3s4y__v",
        "outputId": "d8341e25-e2d7-497e-e687-49b36696cc27"
      },
      "execution_count": null,
      "outputs": [
        {
          "output_type": "stream",
          "name": "stdout",
          "text": [
            "n = 5\n",
            "Рост ученика: 150\n",
            "Рост ученика: -150\n",
            "Рост ученика: 160\n",
            "Рост ученика: 170\n",
            "Рост ученика: 180\n",
            "Средний рост мальчиков:  150.0\n",
            "Средний рост девочек:  165.0\n"
          ]
        }
      ]
    },
    {
      "cell_type": "code",
      "source": [
        "# Задание task_04_02_22.\n",
        "#\n",
        "# Выполнил: Тяпкина П.А.\n",
        "# Группа: АДЭУ-221\n",
        "# E-mail: p.malinka25@gmail.com\n",
        "\n",
        "\n",
        "n = int(input(\"n = \"))\n",
        "\n",
        "t = list()\n",
        "\n",
        "a_max = None\n",
        "a_min = None\n",
        "\n",
        "for x in range(n):\n",
        "    a = float(input(\"a = \"))\n",
        "    t.append(a)\n",
        "\n",
        "l = max(t)\n",
        "g = min(t)\n",
        "print(\"Максимум: \", l)\n",
        "print(\"Минимум: \", g)\n",
        "\n",
        "# --------------\n",
        "# Пример вывода:\n",
        "#\n",
        "# n = 4\n",
        "# 1-е число = 6.2\n",
        "# 2-е число = 3.8\n",
        "# 3-е число = 1.1\n",
        "# 4-е число = 9.66\n",
        "# Максимум: 9.66\n",
        "# Минимум: 1.10\n"
      ],
      "metadata": {
        "colab": {
          "base_uri": "https://localhost:8080/"
        },
        "id": "itVv8CD5Fd9q",
        "outputId": "c474715f-d9c5-45d5-a0ad-0ea719c843ac"
      },
      "execution_count": null,
      "outputs": [
        {
          "output_type": "stream",
          "name": "stdout",
          "text": [
            "n = 4\n",
            "a = 6.2\n",
            "a = 3.8\n",
            "a = 1.1\n",
            "a = 9.66\n",
            "Максимум:  9.66\n",
            "Минимум:  1.1\n"
          ]
        }
      ]
    },
    {
      "cell_type": "code",
      "source": [
        "# Задание task_04_02_23.\n",
        "#\n",
        "# Выполнил: Тяпкина П.А.\n",
        "# Группа: АДЭУ-221\n",
        "# E-mail: p.malinka25@gmail.com\n",
        "\n",
        "n = int(input(\"n = \"))\n",
        "\n",
        "h1 = 1\n",
        "h2 = 1\n",
        "t = 1\n",
        "\n",
        "while n != h1:\n",
        "    if n < h1:\n",
        "        print(\"Не является.\")\n",
        "        break\n",
        "    else:\n",
        "        t = h1\n",
        "        h1 += h2\n",
        "        h2 = t\n",
        "else:\n",
        "    print(\"Является.\")\n",
        "\n",
        "# --------------\n",
        "# Пример вывода:\n",
        "#\n",
        "# n = 7\n",
        "# Не является\n",
        "#\n",
        "# n = 8\n",
        "# Является\n"
      ],
      "metadata": {
        "colab": {
          "base_uri": "https://localhost:8080/"
        },
        "id": "lZa-FBQ6P7Qs",
        "outputId": "6733efb3-4023-499a-bc85-a6e2c5772684"
      },
      "execution_count": null,
      "outputs": [
        {
          "output_type": "stream",
          "name": "stdout",
          "text": [
            "n = 7\n",
            "Не является.\n"
          ]
        }
      ]
    },
    {
      "cell_type": "code",
      "source": [
        "# Задание task_04_02_24.\n",
        "#\n",
        "# Выполнил: Тяпкина П.А.\n",
        "# Группа: АДЭУ-221\n",
        "# E-mail: p.malinka25@gmail.com\n",
        "\n",
        "n = int(input(\"n = \"))\n",
        "\n",
        "t = list()\n",
        "\n",
        "# -1 означает, что последовательность упорядочена по возрастанию\n",
        "# Если это не так, 'index' меняется в цикле на индекс элемента,\n",
        "# нарушающего порядок\n",
        "index = -1\n",
        "\n",
        "prev = float(input(\"Первое число: \"))\n",
        "t.append(prev)\n",
        "h = 1\n",
        "for x in range(n - 1):\n",
        "    h += 1\n",
        "    prev = float(input(\"Следующее чисо: \"))\n",
        "    if prev <= t[-1]:\n",
        "        index = x\n",
        "        print(h)\n",
        "if index == -1:\n",
        "    print(\"Является.\")\n",
        "\n",
        "# --------------\n",
        "# Пример вывода:\n",
        "#\n",
        "# n = 4\n",
        "# 1-е число = 2\n",
        "# 2-е число = 4.6\n",
        "# 3-е число = 6\n",
        "# 4-е число = 8.3\n",
        "# Является\n",
        "#\n",
        "# n = 3\n",
        "# 1-е число = 3\n",
        "# 2-е число = 3\n",
        "# 2\n"
      ],
      "metadata": {
        "colab": {
          "base_uri": "https://localhost:8080/"
        },
        "id": "rZhcaOzmf0FY",
        "outputId": "90736e9b-f421-44fb-c8bd-f694f0c921df"
      },
      "execution_count": null,
      "outputs": [
        {
          "output_type": "stream",
          "name": "stdout",
          "text": [
            "n = 3\n",
            "Первое число: 3\n",
            "Следующее чисо: 3\n",
            "2\n",
            "Следующее чисо: 3\n",
            "3\n"
          ]
        }
      ]
    },
    {
      "cell_type": "code",
      "source": [
        "# Задание task_04_02_25.\n",
        "#\n",
        "# Выполнил: Тяпкина П.А.\n",
        "# Группа: АДЭУ-221\n",
        "# E-mail: p.malinka25@gmail.com\n",
        "\n",
        "n = int(input(\"n = \"))\n",
        "\n",
        "for x in range(1, n + 1):\n",
        "    for t in range(1, n + 1):\n",
        "        print(f'{x} * {t} = {x * t}\\h', end = ' ')\n",
        "    print('')\n",
        "\n",
        "# --------------\n",
        "# Пример вывода:\n",
        "#\n",
        "# n = 5\n",
        "# 1 * 1 =  1  1 * 2 =  2  1 * 3 =  3  1 * 4 =  4  1 * 5 =  5\n",
        "# 2 * 1 =  2  2 * 2 =  4  2 * 3 =  6  2 * 4 =  8  2 * 5 = 10\n",
        "# 3 * 1 =  3  3 * 2 =  6  3 * 3 =  9  3 * 4 = 12  3 * 5 = 15\n",
        "# 4 * 1 =  4  4 * 2 =  8  4 * 3 = 12  4 * 4 = 16  4 * 5 = 20\n",
        "# 5 * 1 =  5  5 * 2 = 10  5 * 3 = 15  5 * 4 = 20  5 * 5 = 25\n"
      ],
      "metadata": {
        "colab": {
          "base_uri": "https://localhost:8080/"
        },
        "id": "y3GM1Igejevu",
        "outputId": "7bdaca99-92d1-45f2-c8b7-1895768edc1f"
      },
      "execution_count": null,
      "outputs": [
        {
          "output_type": "stream",
          "name": "stdout",
          "text": [
            "n = 4\n",
            "1 * 1 = 1\\h 1 * 2 = 2\\h 1 * 3 = 3\\h 1 * 4 = 4\\h \n",
            "2 * 1 = 2\\h 2 * 2 = 4\\h 2 * 3 = 6\\h 2 * 4 = 8\\h \n",
            "3 * 1 = 3\\h 3 * 2 = 6\\h 3 * 3 = 9\\h 3 * 4 = 12\\h \n",
            "4 * 1 = 4\\h 4 * 2 = 8\\h 4 * 3 = 12\\h 4 * 4 = 16\\h \n"
          ]
        }
      ]
    },
    {
      "cell_type": "code",
      "source": [
        "# Задание task_04_02_26.\n",
        "#\n",
        "# Выполнил: Тяпкина П.А.\n",
        "# Группа: АДЭУ-221\n",
        "# E-mail: p.malinka25@gmail.com\n",
        "\n",
        "n = int(input(\"n = \"))\n",
        "\n",
        "for t in range(2, n + 1):\n",
        "    a = 2\n",
        "    b = 2\n",
        "    while (b * b <= t):\n",
        "        if t % b == 0:\n",
        "            a += 1\n",
        "            c = t // b\n",
        "            if c != b:\n",
        "                a += 1\n",
        "        b += 1\n",
        "    print(t,a * \"*\")\n",
        "\n",
        "# --------------\n",
        "# Пример вывода:\n",
        "#\n",
        "# n = 10\n",
        "# 1 *\n",
        "# 2 **\n",
        "# 3 **\n",
        "# 4 ***\n",
        "# 5 **\n",
        "# 6 ****\n",
        "# 7 **\n",
        "# 8 ****\n",
        "# 9 ***\n",
        "# 10 ****"
      ],
      "metadata": {
        "colab": {
          "base_uri": "https://localhost:8080/"
        },
        "id": "7Wb_YW3DqBr5",
        "outputId": "b7ddaef2-0575-4233-92e3-3ed61f029c69"
      },
      "execution_count": null,
      "outputs": [
        {
          "output_type": "stream",
          "name": "stdout",
          "text": [
            "n = 10\n",
            "2 **\n",
            "3 **\n",
            "4 ***\n",
            "5 **\n",
            "6 ****\n",
            "7 **\n",
            "8 ****\n",
            "9 ***\n",
            "10 ****\n"
          ]
        }
      ]
    },
    {
      "cell_type": "code",
      "source": [
        "# Задание task_04_02_27.\n",
        "#\n",
        "# Выполнил: Тяпкина П.А.\n",
        "# Группа: АДЭУ-221\n",
        "# E-mail: p.malinka25@gmail.com\n",
        "\n",
        "\n",
        "n = int(input(\"n = \"))*3\n",
        "\n",
        "h = 1\n",
        "t = list()\n",
        "\n",
        "for x in range(1, n + 1):\n",
        "    a = 0\n",
        "    for y in range(1, h + 1):\n",
        "        b = h % y\n",
        "        if b == 0:\n",
        "            a = a + 1\n",
        "    if a == 2:\n",
        "        t.append(h)\n",
        "    else:\n",
        "        x = x - 1\n",
        "    h = h + 1\n",
        "print(t[:n])\n",
        "# --------------\n",
        "# Пример вывода:\n",
        "#\n",
        "# n = 10\n",
        "# 2 3 5 7 11 13 17 19 23 29\n"
      ],
      "metadata": {
        "colab": {
          "base_uri": "https://localhost:8080/"
        },
        "id": "WBtJcN6uqLZ9",
        "outputId": "c0bedb3e-74f2-4775-8fc2-803f8cee9fd0"
      },
      "execution_count": null,
      "outputs": [
        {
          "output_type": "stream",
          "name": "stdout",
          "text": [
            "n = 10\n",
            "[2, 3, 5, 7, 11, 13, 17, 19, 23, 29]\n"
          ]
        }
      ]
    },
    {
      "cell_type": "code",
      "source": [
        "# Задание task_04_02_28.\n",
        "#\n",
        "# Выполнил: Тяпкина П.А.\n",
        "# Группа: АДЭУ-221\n",
        "# E-mail: p.malinka25@gmail.com\n",
        "\n",
        "\n",
        "k = int(input(\"k = \"))\n",
        "\n",
        "for x in range(1,31):\n",
        "    for y in range(1,31):\n",
        "        for z in range(1,31):\n",
        "            if (x ** 2) + (y ** 2) + (z ** 2) == (k ** 2):\n",
        "                print(f'x = {x}, y = {y}, z = {z}')\n",
        "\n",
        "# --------------\n",
        "# Пример вывода:\n",
        "#\n",
        "# k = 30\n",
        "# x =  4, y = 10, z = 28\n",
        "# x =  4, y = 20, z = 22\n",
        "# x =  4, y = 22, z = 20\n",
        "# x =  4, y = 28, z = 10\n",
        "# x = 10, y =  4, z = 28\n",
        "# x = 10, y = 20, z = 20\n",
        "# x = 10, y = 28, z =  4\n",
        "# x = 20, y =  4, z = 22\n",
        "# x = 20, y = 10, z = 20\n",
        "# x = 20, y = 20, z = 10\n",
        "# x = 20, y = 22, z =  4\n",
        "# x = 22, y =  4, z = 20\n",
        "# x = 22, y = 20, z =  4\n",
        "# x = 28, y =  4, z = 10\n",
        "# x = 28, y = 10, z =  4\n"
      ],
      "metadata": {
        "colab": {
          "base_uri": "https://localhost:8080/"
        },
        "id": "pkT4mgobwMdv",
        "outputId": "e29acac5-bb68-4517-f915-82f29f26fe22"
      },
      "execution_count": 10,
      "outputs": [
        {
          "output_type": "stream",
          "name": "stdout",
          "text": [
            "k = 30\n",
            "x = 4, y = 10, z = 28\n",
            "x = 4, y = 20, z = 22\n",
            "x = 4, y = 22, z = 20\n",
            "x = 4, y = 28, z = 10\n",
            "x = 10, y = 4, z = 28\n",
            "x = 10, y = 20, z = 20\n",
            "x = 10, y = 28, z = 4\n",
            "x = 20, y = 4, z = 22\n",
            "x = 20, y = 10, z = 20\n",
            "x = 20, y = 20, z = 10\n",
            "x = 20, y = 22, z = 4\n",
            "x = 22, y = 4, z = 20\n",
            "x = 22, y = 20, z = 4\n",
            "x = 28, y = 4, z = 10\n",
            "x = 28, y = 10, z = 4\n"
          ]
        }
      ]
    }
  ]
}