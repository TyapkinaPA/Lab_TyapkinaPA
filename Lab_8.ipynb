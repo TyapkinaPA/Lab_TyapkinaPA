{
  "nbformat": 4,
  "nbformat_minor": 0,
  "metadata": {
    "colab": {
      "provenance": [],
      "mount_file_id": "1dvLEymMVbkSpG3kmv1ZlnhcXtHinKefG",
      "authorship_tag": "ABX9TyNO7sltXKXtkgLJhXwf+UD4",
      "include_colab_link": true
    },
    "kernelspec": {
      "name": "python3",
      "display_name": "Python 3"
    },
    "language_info": {
      "name": "python"
    }
  },
  "cells": [
    {
      "cell_type": "markdown",
      "metadata": {
        "id": "view-in-github",
        "colab_type": "text"
      },
      "source": [
        "<a href=\"https://colab.research.google.com/github/TyapkinaPA/Lab_TyapkinaPA/blob/main/Lab_8.ipynb\" target=\"_parent\"><img src=\"https://colab.research.google.com/assets/colab-badge.svg\" alt=\"Open In Colab\"/></a>"
      ]
    },
    {
      "cell_type": "markdown",
      "source": [
        "# 8.2. Файлы и сериализация данных.\n",
        "## Выполнилы: Тяпкина Полина\n",
        "## Группа: АДЭУ-221\n",
        "## Номер в moodle: 19\n",
        "## Почта:p.malinka25@gmail.com ,  TyapkinaPA@mgpu.ru \n"
      ],
      "metadata": {
        "id": "PL6YFJi2aAPT"
      }
    },
    {
      "cell_type": "markdown",
      "source": [
        "### 8.2.1. Простые ткстовые файлы."
      ],
      "metadata": {
        "id": "Rza29O-ca3dn"
      }
    },
    {
      "cell_type": "markdown",
      "source": [
        "#### № 8.2.1\n",
        "\n",
        "##### С клавиатуры в одной строке вводится произвольное количество вещественных чисел. Запишите их в файл, расположив каждое число на отдельной строке."
      ],
      "metadata": {
        "id": "xair_ZozdzCJ"
      }
    },
    {
      "cell_type": "code",
      "source": [
        "import locale\n",
        "def load_data():\n",
        "    \"\"\"Вернуть список вещественных чисел, введенных с клавиатуры.\n",
        "    Числа вводятся в одной строке.\"\"\"\n",
        "    i = []\n",
        "    for a in input().split():\n",
        "        i.append( int(a) )\n",
        "    print('\\n'.join(map(str, i)))        \n",
        "    return i\n",
        "\n",
        "def save_data(values, filename):\n",
        "    \"\"\"Записать данные в файл.\n",
        "    Параметры:\n",
        "        - values (list of float): список вещественных чисел;\n",
        "        - filename (str): имя файла.\n",
        "    Функция не обрабатывает исключения.\n",
        "    \"\"\"\n",
        "try:\n",
        "    filename = input('Имя файла: ')\n",
        "    values = load_data()\n",
        "    save_data(values, filename)\n",
        "except ValueError as err:\n",
        "    print(\"Числа были введены с ошибкой.\")\n",
        "except (OSError, IOError) as err:\n",
        "    print(\"Ошибка при сохранении файла с данными:\", err)\n",
        "except Exception as err:\n",
        "    print(\"Произошла ошибка!\")\n",
        "    print(\"Тип:\", type(err))\n",
        "    print(\"Описание:\", err)\n"
      ],
      "metadata": {
        "id": "wzWJPLMwTTak",
        "colab": {
          "base_uri": "https://localhost:8080/"
        },
        "outputId": "8a53913a-3507-45af-fbbf-ef8352185856"
      },
      "execution_count": null,
      "outputs": [
        {
          "output_type": "stream",
          "name": "stdout",
          "text": [
            "Имя файла: friz\n",
            "1 2 3 4 5\n",
            "1\n",
            "2\n",
            "3\n",
            "4\n",
            "5\n"
          ]
        }
      ]
    },
    {
      "cell_type": "markdown",
      "source": [
        "#### № 8.2.2\n",
        "\n",
        "##### Дан файл, полученный на выходе задачи № 8.2.1:\n",
        "##### загрузите список чисел;\n",
        "##### вычислите их сумму и максимум и допишите их в файл.\n",
        "##### Выполнив программу несколько раз, убедитесь, что новые значения учитываются при подсчете.\n",
        "#####Если файл прочитать не удается, программа должна прекратить чтение и сообщить об этом пользователю."
      ],
      "metadata": {
        "id": "W3WzetV1d__I"
      }
    },
    {
      "cell_type": "code",
      "source": [
        "def load_data(filename):\n",
        "    \"\"\"Загрузить список вещественных чисел из файла 'filename'.\n",
        "    Функция не обрабатывает исключения.\"\"\"\n",
        "    i = []\n",
        "    for a in input().split():\n",
        "        i.append( int(a) )\n",
        "    print('\\n'.join(map(str, i)))   \n",
        "    print(sum(i))\n",
        "    print(max(i))     \n",
        "    return i\n",
        "\n",
        "def append_to_file(values, filename):\n",
        "    \"\"\"Дописать данные в файл.\n",
        "    Параметры:\n",
        "        - values (list of float): список вещественных чисел;\n",
        "        - filename (str): имя файла.\n",
        "    \"\"\"\n",
        "try:\n",
        "    filename = open('friz', 'a+')\n",
        "    values = load_data(filename)\n",
        "\n",
        "    # Удалите комментарий и допишите код\n",
        "    append_to_file(values, filename)\n",
        "except FileNotFoundError as err:\n",
        "    print(\"Указанный файл не существует.\")\n",
        "except (IOError, ValueError) as err:\n",
        "    print(\"Ошибка при чтении/сохранении файла с данными:\", err)\n",
        "except Exception as err:\n",
        "    print(\"Произошла ошибка!\")\n",
        "    print(\"Тип:\", type(err))\n",
        "    print(\"Описание:\", err)"
      ],
      "metadata": {
        "colab": {
          "base_uri": "https://localhost:8080/"
        },
        "id": "6BO2VAAtUXxU",
        "outputId": "3b068b0d-cc54-428a-8752-9c4b095414d8"
      },
      "execution_count": null,
      "outputs": [
        {
          "output_type": "stream",
          "name": "stdout",
          "text": [
            "1 2 3 4 5 12\n",
            "1\n",
            "2\n",
            "3\n",
            "4\n",
            "5\n",
            "12\n",
            "27\n",
            "12\n"
          ]
        }
      ]
    },
    {
      "cell_type": "markdown",
      "source": [
        "#### № 8.2.4\n",
        "\n",
        "##### В файле записано стихотворение. Выведите его на экран, а также укажите, каких слов в нем больше: начинающихся на гласную или на согласную букву (регистр не учитывается)?"
      ],
      "metadata": {
        "id": "1aQM-Hokebbr"
      }
    },
    {
      "cell_type": "code",
      "source": [
        "def load_text(filename):\n",
        "    \"\"\"Загрузить стихотворение из файла 'filename'.\n",
        "\n",
        "    Функция не обрабатывает исключения.\"\"\"\n",
        "    f = open(filename, 'r')\n",
        "    t = ''\n",
        "    for i in f:\n",
        "        t += i\n",
        "    f.close()\n",
        "    return t.replace('\\n', ' ')\n",
        "\n",
        "def letters_stats(text):\n",
        "    \"\"\"Вернуть словарь, содержащий количество гласных/согласных букв.\n",
        "\n",
        "    Параметры:\n",
        "        - text (str): стихотворение.\n",
        "\n",
        "    Результат:\n",
        "        - dict: словарь, содержащий количество гласных/согласных букв:\n",
        "    \"\"\"    \n",
        "    text = text.split()   \n",
        "    dic = {\n",
        "              \"гласные\": 0,\n",
        "              \"согласные\": 0\n",
        "          }\n",
        "    gl = 'аеёиоуыэюя'\n",
        "    sgl = 'бвгджзйклмнпрстфхцшщ'\n",
        "    for i in text:\n",
        "        if i[0].lower() in gl:\n",
        "            dic['гласные'] += 1\n",
        "        elif i[0].lower() in sgl:\n",
        "            dic['согласные'] += 1\n",
        "    return dic\n",
        "\n",
        "try:\n",
        "  filename = input('имя файла: ')\n",
        "  text = load_text(filename)\n",
        "  stats = letters_stats(text)\n",
        "  print(stats)\n",
        "\n",
        "except FileNotFoundError as err:\n",
        "  print('Указанный файл не существует')\n",
        "\n",
        "except IOError as err:\n",
        "  print('Ошибка при чтении файла',err)\n",
        "\n",
        "except Exception as err:\n",
        "  print('Произошла ошибка!')\n",
        "  print('Тип: ', type(err))\n",
        "  print('Описание: ',err)"
      ],
      "metadata": {
        "id": "NeuVAzGNix7l",
        "colab": {
          "base_uri": "https://localhost:8080/"
        },
        "outputId": "bad94c17-5f94-40a3-d963-9a5058b79a5b"
      },
      "execution_count": null,
      "outputs": [
        {
          "output_type": "stream",
          "name": "stdout",
          "text": [
            "имя файла: data (1).txt\n",
            "{'гласные': 8, 'согласные': 12}\n"
          ]
        }
      ]
    },
    {
      "cell_type": "markdown",
      "source": [
        "#### № 8.2.5\n",
        "\n",
        "##### Информация о занятости мест в зрительном зале кинотеатра хранится в текстовом файле:\n",
        "##### где строка обозначает ряд, столбец - место (0 - свободно, 1 - занято).\n",
        "##### Напишите программу, которая позволит пользователю увидеть количество свободных мест, а также, введя номер ряда и места, получить информацию - свободно оно или нет."
      ],
      "metadata": {
        "id": "KJWSVjxJefn1"
      }
    },
    {
      "cell_type": "code",
      "source": [
        "class NoSuchSeatError(Exception):\n",
        "    def __init__(self, message):\n",
        "        super().__init__(message)\n",
        "\n",
        "\n",
        "def load_seats(filename):\n",
        "    \"\"\"Загрузить данные о местах в зале из файла 'filename'.\n",
        "\n",
        "    Результат: list of list вида:\n",
        "\n",
        "        [\n",
        "            [0, 0, 1],     # 1 ряд, первые 2 места свободны\n",
        "            [1, 1, 1, 1],  # 2 ряд, все места заняты\n",
        "            ...\n",
        "        ]\n",
        "\n",
        "    Функция не обрабатывает исключения.\"\"\"\n",
        "    data = []\n",
        "    f = open(filename, 'r')\n",
        "    for line in f:\n",
        "      data.append([float(x) for x in line.split()])\n",
        "    f.close()\n",
        "    return data\n",
        "\n",
        "\n",
        "def vacant_seats(seats):\n",
        "    \"\"\"Вернуть количество свободных мест в 'seats'.\n",
        "\n",
        "    Параметры:\n",
        "        - seats (list of list): данные из load_seats().\n",
        "\n",
        "    Результат:\n",
        "        - int: количество свободных мест.\n",
        "    \"\"\"\n",
        "    t = 0\n",
        "    r = seats[0]\n",
        "    r = len(seats)\n",
        "    for h in seats:\n",
        "      t = t + 1\n",
        "    n = 0\n",
        "    m = 0\n",
        "    for i in range(r):\n",
        "      for k in range(t):\n",
        "        if seats[i][k]==0:\n",
        "          n = n + 1\n",
        "        else:\n",
        "          m = m + 1\n",
        "    return n\n",
        "\n",
        "\n",
        "def is_seat_vacant(seats, n_p, m_p):\n",
        "    \"\"\"Вернуть True, если место свободно.\n",
        "\n",
        "    Параметры:\n",
        "        - seats (list of list): данные из load_seats();\n",
        "        - n_p (int): номер ряда (индексация с 0);\n",
        "        - m_p (int): номер места (индексация с 0).\n",
        "\n",
        "    Результат:\n",
        "        - True/False: место свободно/нет.\n",
        "\n",
        "    Исключения:\n",
        "        - NoSuchSeatError: если места с указанными параметрами не существует.\n",
        "    \"\"\"\n",
        "    a = seats[n_p]\n",
        "    b = a[m_p]\n",
        "    if b == 0:\n",
        "      return True\n",
        "    else:\n",
        "      return False\n",
        "try:\n",
        "  filename = input(\"Введите имя файла: \")\n",
        "  seats = load_seats(filename)\n",
        "\n",
        "  count = vacant_seats(seats)\n",
        "  print(\"Всего свободных мест: {}\".format(count))\n",
        "except FileNotFoundError as err:\n",
        "  print('Указаный файл не существует')\n",
        "except IOError as err:\n",
        "  print('ошибка при чтении файла: ', err)\n",
        "except Exception as err:\n",
        "  print('произошла ошибка')\n",
        "  print('тип:', type(err))\n",
        "  print('описание:', err)\n",
        "# Ввод значений для поиска\n",
        "# Учитывайте, что пользователь привык считать с 1, а не с 0,\n",
        "# поэтому введенные сообщения необходимо скорректировать\n",
        "n_p, m_p = [int(item) for item in\n",
        "            input(\"Введите ряд и место через пробел: \").split()]\n",
        "\n",
        "print(\"Место свободно:\",\n",
        "      \"Да\" if is_seat_vacant(seats, n_p - 1, m_p - 1) else \"Нет\")\n",
        "\n"
      ],
      "metadata": {
        "id": "OPkjEiNN1R2B",
        "colab": {
          "base_uri": "https://localhost:8080/"
        },
        "outputId": "6508d267-ce96-498a-ac15-5be7d554ca86"
      },
      "execution_count": null,
      "outputs": [
        {
          "output_type": "stream",
          "name": "stdout",
          "text": [
            "Введите имя файла: data (2).txt\n",
            "Всего свободных мест: 5\n",
            "Введите ряд и место через пробел: 3 3\n",
            "Место свободно: Да\n"
          ]
        }
      ]
    },
    {
      "cell_type": "markdown",
      "source": [
        "#### № 8.2.6\n",
        "\n",
        "##### Дан файл с результатами голосования на выборах в виде:\n",
        "##### 1 3 14 10 2 3 -1 ...\n",
        "##### где номер (через пробел) определяет голос за партию из списка:\n",
        "##### Если при чтении файла какое-либо значение не распознается (не является целым числом) или партии с таким номером не существует, считается, что бланк испорчен (-1)."
      ],
      "metadata": {
        "id": "zHYRaxCzeql5"
      }
    },
    {
      "cell_type": "code",
      "source": [
        "\n",
        "CORRUPTED = -1\n",
        "\n",
        "parties = {\n",
        "    1: \"Партия №1\", 2: \"Партия №2\", 3: \"Партия №3\",\n",
        "    4: \"Партия №4\", 5: \"Партия №5\", CORRUPTED: \"Испорчено\"\n",
        "}\n",
        "\n",
        "\n",
        "def load_votes(filename):\n",
        "    \"\"\"Загрузить результаты голосования.\n",
        "\n",
        "    Если отдельное значение не распознается (не является целым числом),\n",
        "    считается, что бланк испорчен (-1).\n",
        "\n",
        "    Параметры:\n",
        "        - filename (str): имя файла.\n",
        "\n",
        "    Результат:\n",
        "        - list of int\n",
        "\n",
        "    Функция не обрабатывает исключения.\"\"\"\n",
        "    lst = []\n",
        "    f = open(filename, 'r')\n",
        "    for line in f:\n",
        "      lst.append([int(t) for t in line.split()])\n",
        "    name = lst[0]\n",
        "    return name\n",
        "    f.close()\n",
        "\n",
        "\n",
        "def parties_votes(parties, votes):\n",
        "    \"\"\"Вернуть информацию о голосах 'votes', отданных за партии 'parties'.\n",
        "    Испорченные бланки также присутствуют в результате.\n",
        "\n",
        "    Если среди голосов найдены партии, не присутствующие в списке\n",
        "    'parties', они записываются в группу \"Испорчено\".\n",
        "\n",
        "    Параметры:\n",
        "        - parties (dict): информация о партиях (номер голоса: название);\n",
        "        - votes (list): номера голосов.\n",
        "\n",
        "    Результат:\n",
        "        dict: название: кол-во отданных голосов.\"\"\"\n",
        "    dic = {}\n",
        "    for i in parties:\n",
        "      dic[parties[i]] = 0\n",
        "    for i in votes:\n",
        "      if i in parties:\n",
        "        dic[parties[i]] += 1\n",
        "      else:\n",
        "        dic['Испорчено'] +=1\n",
        "    return dic \n",
        "\n",
        "def print_results(votes_for_p):\n",
        "    \"\"\"Вывести результаты голосования в формате:\n",
        "\n",
        "    1. Партия №2 | 1111 | 58.21%\n",
        "    2. Партия №4 |  999 | 38.14%\n",
        "\n",
        "    Кол-во голосов и % выровнены по правому краю.\n",
        "\n",
        "    Параметры:\n",
        "        - votes_for_p (dict): результат функции parties_votes().\n",
        "    \"\"\"\n",
        "    new_sort_dict = {}\n",
        "    a = sorted(votes_for_p.values(), reverse = True)\n",
        "    count = 0\n",
        "    for i in a:\n",
        "      for k in votes_for_p.keys():\n",
        "        if votes_for_p[k] == i:\n",
        "          new_sort_dict[k] = votes_for_p[k]\n",
        "          if k != 'Испорчено':\n",
        "            count += votes_for_p[k]\n",
        "          break\n",
        "    k = 1\n",
        "    for i in new_sort_dict:\n",
        "      if i != 'Испорчено':\n",
        "        print(\n",
        "            '%3d.%10s | %4d | %5.2f' % (k, i, new_sort_dict[i], round(100 * new_sort_dict[i]/count, 2)) + '%')\n",
        "        k += 1\n",
        "try:\n",
        "  filename = input(\"Введите имя файла: \")\n",
        "\n",
        "  votes = load_votes(filename)\n",
        "  votes_for_p = parties_votes(parties, votes)\n",
        "  print_results(parties_votes(parties, votes))\n",
        "except FileNotFoundError as err:\n",
        "  print('Указанный файл отсутствует')\n",
        "except IOError as err:\n",
        "  print('ошибки при чтении', err)\n",
        "except Exception as err:\n",
        "  print('произошла ошибка')\n",
        "  print('тип:', type(err))\n",
        "  print('описание:', err)"
      ],
      "metadata": {
        "id": "0_GLNMeLbRHr",
        "colab": {
          "base_uri": "https://localhost:8080/"
        },
        "outputId": "d6efbc2b-5f27-4d6a-fcd2-0a6a2a761674"
      },
      "execution_count": null,
      "outputs": [
        {
          "output_type": "stream",
          "name": "stdout",
          "text": [
            "Введите имя файла: votes.txt\n",
            "  1. Партия №3 |   27 | 28.42%\n",
            "  2. Партия №1 |   22 | 23.16%\n",
            "  3. Партия №2 |   20 | 21.05%\n",
            "  4. Партия №5 |   14 | 14.74%\n",
            "  5. Партия №4 |   12 | 12.63%\n"
          ]
        }
      ]
    }
  ]
}