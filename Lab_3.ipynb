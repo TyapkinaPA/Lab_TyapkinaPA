{
  "nbformat": 4,
  "nbformat_minor": 0,
  "metadata": {
    "colab": {
      "provenance": [],
      "authorship_tag": "ABX9TyNsm/Zoo/d8NQYqhoPnF4P+",
      "include_colab_link": true
    },
    "kernelspec": {
      "name": "python3",
      "display_name": "Python 3"
    },
    "language_info": {
      "name": "python"
    }
  },
  "cells": [
    {
      "cell_type": "markdown",
      "metadata": {
        "id": "view-in-github",
        "colab_type": "text"
      },
      "source": [
        "<a href=\"https://colab.research.google.com/github/TyapkinaPA/Lab_TyapkinaPA/blob/main/Lab_3.ipynb\" target=\"_parent\"><img src=\"https://colab.research.google.com/assets/colab-badge.svg\" alt=\"Open In Colab\"/></a>"
      ]
    },
    {
      "cell_type": "markdown",
      "source": [],
      "metadata": {
        "id": "N_3OmK23MfoJ"
      }
    },
    {
      "cell_type": "code",
      "execution_count": null,
      "metadata": {
        "colab": {
          "base_uri": "https://localhost:8080/"
        },
        "id": "LVAayCydv3jl",
        "outputId": "6ab27b46-dec5-4a27-b5c9-a1e39a5af856"
      },
      "outputs": [
        {
          "output_type": "stream",
          "name": "stdout",
          "text": [
            "a=6\n",
            "b=2\n",
            "8\n",
            "4\n",
            "12\n",
            "3.0\n",
            "3\n",
            "0\n",
            "36\n",
            "False\n",
            "False\n",
            "True\n",
            "True\n",
            "True\n",
            "False\n"
          ]
        }
      ],
      "source": [
        "# Задание task_03_02_01.\n",
        "#\n",
        "# Выполнил: Тяпкина П.А.\n",
        "# Группа: АДЭУ-221\n",
        "# E-mail: p.malinka25@gmail.com\n",
        "\n",
        "\n",
        "a = int(input(\"a=\"))\n",
        "b = int(input(\"b=\"))\n",
        "\n",
        "print(a + b)\n",
        "print(a - b)\n",
        "print(a * b)\n",
        "print(a / b)\n",
        "print(a // b)\n",
        "print(a % b)\n",
        "print(a ** b)\n",
        "print(a < b)\n",
        "print(a <= b)\n",
        "print(a > b)\n",
        "print(a >= b)\n",
        "print(a != b)\n",
        "print(a == b)\n",
        "\n",
        "\n",
        "\n",
        "# --------------\n",
        "# Пример вывода:\n",
        "#\n",
        "# a=2\n",
        "# b=3\n",
        "# 5\n",
        "# -1\n",
        "# 6\n",
        "# 0.67\n",
        "# 0\n",
        "# 2\n",
        "# 8\n",
        "# True\n",
        "# True\n",
        "# False\n",
        "# False\n",
        "# True\n",
        "# False\n"
      ]
    },
    {
      "cell_type": "code",
      "source": [
        "# Программирование на языке высокого уровня (Python).\n",
        "# https://www.yuripetrov.ru/edu/python\n",
        "# Задание task_03_02_02.\n",
        "#\n",
        "# Выполнил: Тяпкнина П.А.\n",
        "# Группа: АДЭУ-221\n",
        "# E-mail: p.malinka25@gmail.com\n",
        "\n",
        "\n",
        "x = int(input(\"x=\"))\n",
        "y = int(input(\"y=\"))\n",
        "z = int(input(\"z=\"))\n",
        "\n",
        "res = ((x**5+7)/abs(-6)/y)**(1/3)/(7-z%y)\n",
        "\n",
        "print(round(res,2))\n",
        "\n",
        "\n",
        "# --------------\n",
        "# Пример вывода:\n",
        "#\n",
        "# x=0\n",
        "# y=1\n",
        "# z=2\n",
        "# 0.15\n"
      ],
      "metadata": {
        "colab": {
          "base_uri": "https://localhost:8080/"
        },
        "id": "ubx2nY6CGfsp",
        "outputId": "3ccd23ea-862f-44cc-bbfb-7aca1e83aa93"
      },
      "execution_count": 17,
      "outputs": [
        {
          "output_type": "stream",
          "name": "stdout",
          "text": [
            "x=6\n",
            "y=3\n",
            "z=2\n",
            "1.51\n"
          ]
        }
      ]
    },
    {
      "cell_type": "code",
      "source": [
        "# https://www.yuripetrov.ru/edu/python\n",
        "# Задание task_03_02_03.\n",
        "#\n",
        "# Выполнил: Тяпкина П.А.\n",
        "# Группа: АДЭУ-221\n",
        "# E-mail: p.malinka25@gmail.com\n",
        "\n",
        "\n",
        "r1 = float(input(\"r1=\"))\n",
        "r2 = float(input(\"r2=\"))\n",
        "r = r1+r2\n",
        "print(round(r,1))\n",
        "\n",
        "\n",
        "\n",
        "# --------------\n",
        "# Пример вывода:\n",
        "#\n",
        "# r1=12.2\n",
        "# r2=16.1\n",
        "# 28.3\n"
      ],
      "metadata": {
        "colab": {
          "base_uri": "https://localhost:8080/"
        },
        "id": "ujn5-1hDG6ua",
        "outputId": "95d30812-bcc0-448d-90e2-f301ccad7b65"
      },
      "execution_count": 15,
      "outputs": [
        {
          "output_type": "stream",
          "name": "stdout",
          "text": [
            "r1=48.3\n",
            "r2=32.8\n",
            "81.1\n"
          ]
        }
      ]
    },
    {
      "cell_type": "code",
      "source": [
        "#https://www.yuripetrov.ru/edu/python\n",
        "# Задание task_03_02_04.\n",
        "#\n",
        "# Выполнил: Тяпина П.А.\n",
        "# Группа: АДЭУ-221\n",
        "# E-mail: p.malinka25@gmail.com\n",
        "\n",
        "\n",
        "# Двузначное число\n",
        "num2 = int(input(\"num2=\"))\n",
        "# Трехзначное число\n",
        "num3 = int(input(\"num3=\"))\n",
        "\n",
        "# 1-я цифра числа 'num2'\n",
        "num2_1 = (num2//10)\n",
        "# 2-я цифра числа 'num2'\n",
        "num2_2 = (num2%10)\n",
        "\n",
        "# Сумма цифр числа 'num2'\n",
        "num2_s = (num2_1+num2_2)\n",
        "# Произведение цифр числа 'num2'\n",
        "num2_p = (num2_1*num2_2)\n",
        "\n",
        "# 1-я цифра числа 'num3'\n",
        "num3_1 = (num3//100)\n",
        "# 2-я цифра числа 'num3'\n",
        "num3_2 = ((num3%100)//10)\n",
        "# 3-я цифра числа 'num3'\n",
        "num3_3 = (num3%10)\n",
        "\n",
        "# Сумма цифр числа 'num3'\n",
        "num3_s = (num3_1+num3_2+num3_3)\n",
        "# Произведение цифр числа 'num3'\n",
        "num3_p = (num3_1*num3_2*num3_3)\n",
        "\n",
        "print(num2_s)\n",
        "print(num2_p)\n",
        "print(num3_s)\n",
        "print(num3_p)\n",
        "\n",
        "\n",
        "\n",
        "\n",
        "# Вывод результата\n",
        "# Удалите комментарий и допишите код\n",
        "\n",
        "\n",
        "# --------------\n",
        "# Пример вывода:\n",
        "#\n",
        "# Двузначное число: 45\n",
        "# Трехзначное число: 456\n",
        "# Сумма и произведение цифр двузначного числа: 9 20\n",
        "# Сумма и произведение цифр трехзначного числа: 15 120"
      ],
      "metadata": {
        "colab": {
          "base_uri": "https://localhost:8080/"
        },
        "id": "dBCYqtAnHGlJ",
        "outputId": "c43129c9-3137-4872-a428-e4a9dca8d1cb"
      },
      "execution_count": 13,
      "outputs": [
        {
          "output_type": "stream",
          "name": "stdout",
          "text": [
            "num2=12\n",
            "num3=8\n",
            "3\n",
            "2\n",
            "8\n",
            "0\n"
          ]
        }
      ]
    },
    {
      "cell_type": "code",
      "source": [
        "# Задание task_03_02_05.\n",
        "#\n",
        "# Выполнил: Тяпкина П.А.\n",
        "# Группа: АДЭУ-221\n",
        "# E-mail: p.malinka25@gmail.com\n",
        "\n",
        "\n",
        "# Количество минут\n",
        "m = int(input(\"m=\"))\n",
        "\n",
        "# Количество часов, прошедших с начала суток\n",
        "h = (m % (60*24) // 60)\n",
        "# Количество минут, прошедших с момента начала последнего часа\n",
        "m2 = (m % 60)\n",
        "\n",
        "print(\"Количество часов, прошедших с начала суток:\", h)\n",
        "print(\"Количество минут, прошедших с момента начала последнего часа:\", m2)\n",
        "\n",
        "# --------------\n",
        "# Пример вывода:\n",
        "#\n",
        "# Количество минут, прошедшее с начала суток: 123\n",
        "# Количество часов, прошедших с начала суток: 2\n",
        "# Количество минут, прошедших с момента начала последнего часа: 3\n"
      ],
      "metadata": {
        "colab": {
          "base_uri": "https://localhost:8080/"
        },
        "id": "EWYdye8kHOh-",
        "outputId": "18ab0994-4c58-459c-b86f-afcd063088a9"
      },
      "execution_count": 11,
      "outputs": [
        {
          "output_type": "stream",
          "name": "stdout",
          "text": [
            "m=248\n",
            "Количество часов, прошедших с начала суток: 4\n",
            "Количество минут, прошедших с момента начала последнего часа: 8\n"
          ]
        }
      ]
    },
    {
      "cell_type": "code",
      "source": [
        "#Задание task_03_02_06.\n",
        "#\n",
        "# Выполнил: Тяпкина П.А.\n",
        "# Группа: АДЭУ-221\n",
        "# E-mail: p.malinka25@gmail.com\n",
        "\n",
        "\n",
        "a = int(input(\"a=\"))\n",
        "b = int(input(\"b=\"))\n",
        "m = int(input(\"m=\"))\n",
        "n = int(input(\"n=\"))\n",
        "\n",
        "x = -b//a\n",
        "\n",
        "is_ok = bool((x>=m) and (x<=n))\n",
        "\n",
        "print(\"Попадает:\", is_ok)\n",
        "\n",
        "\n",
        "# --------------\n",
        "# Пример вывода:\n",
        "#\n",
        "# Введите a = 1\n",
        "# Введите b = 2\n",
        "# Введите m = -5\n",
        "# Введите n = 5\n",
        "# Попадает: True\n"
      ],
      "metadata": {
        "colab": {
          "base_uri": "https://localhost:8080/"
        },
        "id": "mbl2-KAgHiJ3",
        "outputId": "dd13121c-ef84-43f3-ff27-148626c0fd0b"
      },
      "execution_count": 8,
      "outputs": [
        {
          "output_type": "stream",
          "name": "stdout",
          "text": [
            "a=12\n",
            "b=1\n",
            "m=13\n",
            "n=8\n",
            "Попадает: False\n"
          ]
        }
      ]
    },
    {
      "cell_type": "code",
      "source": [
        "# Задание task_03_02_07.\n",
        "#\n",
        "# Выполнил: Тяпкина П.А.\n",
        "# Группа: АДЭУ-221\n",
        "# E-mail: p.malinka25@gmail.com\n",
        "\n",
        "\n",
        "team = input(\"Введите название команды: \")\n",
        "\n",
        "print((team)+\"- Чемпион!\")\n",
        "\n",
        "print(\"-\"*len(team))\n",
        "\n",
        "# Название команды в нижнем регистре\n",
        "team_lowercase =  print(team.lower())\n",
        "print(\"Символов в названии команды:\", len(team))\n",
        "print(\"Буква п есть:\", bool(\"п\" in \"Пиар-каст\"))\n",
        "print(\"Колисчество букв а:\", team.find (\"а\"))\n"
      ],
      "metadata": {
        "colab": {
          "base_uri": "https://localhost:8080/"
        },
        "id": "H1_YttcLHj0o",
        "outputId": "e439fdcb-1f62-4bfc-b341-af0ab949e962"
      },
      "execution_count": 6,
      "outputs": [
        {
          "output_type": "stream",
          "name": "stdout",
          "text": [
            "Введите название команды: Пиар-каст\n",
            "Пиар-каст- Чемпион!\n",
            "---------\n",
            "пиар-каст\n",
            "Символов в названии команды: 9\n",
            "Буква п есть: False\n",
            "Колисчество букв а: 2\n"
          ]
        }
      ]
    },
    {
      "cell_type": "code",
      "source": [
        "# Задание task_03_02_08.\n",
        "#\n",
        "# Выполнил: Тяпкина П.А.\n",
        "# Группа: АДЭУ-221\n",
        "# E-mail: p.malinka25@gmail.com\n",
        "\n",
        "\n",
        "# Название государства\n",
        "country = input()\n",
        "# Название столицы\n",
        "capital = input()\n",
        "\n",
        "s1='Государство -'\n",
        "s2=\"Столица -\"\n",
        "done=\"{} {}, {} {}\". format(s1,country,s2,capital)\n",
        "print(done)\n",
        "\n",
        "\n"
      ],
      "metadata": {
        "colab": {
          "base_uri": "https://localhost:8080/"
        },
        "id": "2D4LPYUKHqSc",
        "outputId": "40997538-bdcb-4701-c07d-32798953a709"
      },
      "execution_count": 3,
      "outputs": [
        {
          "output_type": "stream",
          "name": "stdout",
          "text": [
            "Россия\n",
            "Москва\n",
            "Государство - Россия, Столица - Москва\n"
          ]
        }
      ]
    },
    {
      "cell_type": "code",
      "source": [
        "# Задание task_03_02_09.\n",
        "#\n",
        "# Выполнил: Тяпкина П.А.\n",
        "# Группа: АДЭУ-221\n",
        "# E-mail: p.malinka25@gmail.com\n",
        "\n",
        "\n",
        "word = \"объектно-ориентированный\"\n",
        "\n",
        "w1 = word[:6]  # (слово объект)\n",
        "w2 = word[9:17]  # (слово ориентир)\n",
        "w3 = word[14:17]  # (слово тир)\n",
        "w4 = word[4]+word[7]+word[5]  # (слово кот)\n",
        "w5 = word[10]+word[12:15]+word[19]  # (слово рента)\n",
        "\n",
        "print(w1, w2, w3, w4, w5, sep=\"\\n\")\n"
      ],
      "metadata": {
        "colab": {
          "base_uri": "https://localhost:8080/"
        },
        "id": "Tqoxr-Z3H1Dy",
        "outputId": "6ed7b2b2-240b-4efc-9388-a012d5a8eb25"
      },
      "execution_count": 1,
      "outputs": [
        {
          "output_type": "stream",
          "name": "stdout",
          "text": [
            "объект\n",
            "ориентир\n",
            "тир\n",
            "кот\n",
            "рента\n"
          ]
        }
      ]
    }
  ]
}